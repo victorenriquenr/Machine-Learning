{
  "cells": [
    {
      "cell_type": "markdown",
      "id": "d6579eac-c02e-4469-8db5-eef19a21b150",
      "metadata": {
        "id": "d6579eac-c02e-4469-8db5-eef19a21b150"
      },
      "source": [
        "<div style=\"border-radius:10px; padding: 15px; background-color: #EFEDF8; font-size:120%; text-align:left\">\n",
        "\n",
        "<h1 align=\"left\"><font color=#hdc388>Titanic Disaster, survivor prediction.</font></h1>\n",
        "TensorFlow and Keras. Implementation of an Multilayer Perceptron (MLP) model.\n",
        "\n",
        "\n",
        "---\n",
        "<h2 align=\"right\" style=\"font-size: 16px; color: black;\"> by: Víctor Nuñez</h2>\n"
      ]
    },
    {
      "cell_type": "markdown",
      "id": "081c92e9-277b-4213-b955-2e2d964862ab",
      "metadata": {
        "id": "081c92e9-277b-4213-b955-2e2d964862ab"
      },
      "source": [
        "As a practice, a simple sequential model is built; no hyperparameter search is carried out to enhance performance.\n",
        "\n",
        "data: https://www.kaggle.com/competitions/titanic\n",
        "\n"
      ]
    },
    {
      "cell_type": "markdown",
      "id": "f1039401-e102-4bcd-bf01-54a63181cd70",
      "metadata": {
        "id": "f1039401-e102-4bcd-bf01-54a63181cd70"
      },
      "source": [
        "<a id=\"libraries\"></a>\n",
        "# <b><span style=\"color:green;\">Step 1 |</span><span style='color:#hdc388'>  📚  Libraries</span></b>"
      ]
    },
    {
      "cell_type": "code",
      "execution_count": null,
      "id": "e4f967dc-cb52-499c-a30d-07168dfae659",
      "metadata": {
        "id": "e4f967dc-cb52-499c-a30d-07168dfae659"
      },
      "outputs": [],
      "source": [
        "#Data\n",
        "import numpy as np\n",
        "import pandas as pd\n",
        "\n",
        "#Visualization\n",
        "import matplotlib.pyplot as plt\n",
        "import seaborn as sns\n",
        "\n",
        "#Machine Learning\n",
        "from sklearn.preprocessing import MinMaxScaler\n",
        "from sklearn.model_selection import train_test_split\n",
        "\n",
        "from tensorflow.keras.utils import to_categorical\n",
        "from tensorflow.keras.models import Sequential\n",
        "from tensorflow.keras.layers import Dense, Activation, Dropout\n",
        "from tensorflow.keras.regularizers import l2\n",
        "\n",
        "\n",
        "# Hide warnings\n",
        "import warnings\n",
        "warnings.filterwarnings('ignore')"
      ]
    },
    {
      "cell_type": "markdown",
      "id": "7c1a5e36-59c0-40d3-a55b-abff4897d314",
      "metadata": {
        "id": "7c1a5e36-59c0-40d3-a55b-abff4897d314"
      },
      "source": [
        "<a id=\"data\"></a>\n",
        "# <b><span style='color:green'>Step 2 |</span><span style='color:#hdc388'> 📑 Loading Data</span></b>"
      ]
    },
    {
      "cell_type": "code",
      "execution_count": null,
      "id": "921b3f63-525c-4191-9b5b-a6df8b41c25a",
      "metadata": {
        "id": "921b3f63-525c-4191-9b5b-a6df8b41c25a"
      },
      "outputs": [],
      "source": [
        "train = pd.read_csv('train.csv')\n",
        "test  = pd.read_csv('test.csv')"
      ]
    },
    {
      "cell_type": "markdown",
      "id": "34dc5cb0-cb85-449c-9e0c-b2bb256105fb",
      "metadata": {
        "id": "34dc5cb0-cb85-449c-9e0c-b2bb256105fb"
      },
      "source": [
        "<a id=\"description\"></a>\n",
        "<h1 align=\"center\"><font color=#hdc388>Variable Notes</font></h1>\n",
        "\n",
        "\n",
        "\\begin{array}{|l|l|l|}\n",
        "\\hline\n",
        "\\text{Variable} & \\text{Definition} & \\text{Key} \\\\\n",
        "\\hline\n",
        "\\text{survival} & \\text{Survival} & 0 = \\text{No}, 1 = \\text{Yes} \\\\\n",
        "\\text{pclass} & \\text{Ticket class} & 1 = \\text{1st}, 2 = \\text{2nd}, 3 = \\text{3rd} \\\\\n",
        "\\text{sex} & \\text{Sex} & \\\\\n",
        "\\text{Age} & \\text{Age in years} & \\\\\n",
        "\\text{sibsp} & \\# \\text{ of siblings / spouses aboard the Titanic} & \\\\\n",
        "\\text{parch} & \\# \\text{ of parents / children aboard the Titanic} & \\\\\n",
        "\\text{ticket} & \\text{Ticket number} & \\\\\n",
        "\\text{fare} & \\text{Passenger fare} & \\\\\n",
        "\\text{cabin} & \\text{Cabin number} & \\\\\n",
        "\\text{embarked} & \\text{Port of Embarkation} & C = \\text{Cherbourg}, Q = \\text{Queenstown}, S = \\text{Southampton} \\\\\n",
        "\\hline\n",
        "\\end{array}"
      ]
    },
    {
      "cell_type": "code",
      "execution_count": null,
      "id": "d14d62e4-4434-4e40-bf36-485aee4d036d",
      "metadata": {
        "id": "d14d62e4-4434-4e40-bf36-485aee4d036d",
        "outputId": "cc5a3fba-82f4-4a30-8ac9-2654c6b59396"
      },
      "outputs": [
        {
          "name": "stdout",
          "output_type": "stream",
          "text": [
            "{'Survived'}\n"
          ]
        }
      ],
      "source": [
        "#Target\n",
        "print(set(train)- set(test))"
      ]
    },
    {
      "cell_type": "code",
      "execution_count": null,
      "id": "dc2921b3-02db-4ed0-8903-e4b893eeb65b",
      "metadata": {
        "id": "dc2921b3-02db-4ed0-8903-e4b893eeb65b"
      },
      "outputs": [],
      "source": [
        "target = train['Survived']\n",
        "train =  train.drop(['Survived'], axis = 1)"
      ]
    },
    {
      "cell_type": "code",
      "execution_count": null,
      "id": "e6bc3ab8-aaba-43e0-8670-1ab458b793cb",
      "metadata": {
        "id": "e6bc3ab8-aaba-43e0-8670-1ab458b793cb",
        "outputId": "94295dc0-df2b-42ec-8cdb-344e89a05585"
      },
      "outputs": [
        {
          "data": {
            "text/html": [
              "<div>\n",
              "<style scoped>\n",
              "    .dataframe tbody tr th:only-of-type {\n",
              "        vertical-align: middle;\n",
              "    }\n",
              "\n",
              "    .dataframe tbody tr th {\n",
              "        vertical-align: top;\n",
              "    }\n",
              "\n",
              "    .dataframe thead th {\n",
              "        text-align: right;\n",
              "    }\n",
              "</style>\n",
              "<table border=\"1\" class=\"dataframe\">\n",
              "  <thead>\n",
              "    <tr style=\"text-align: right;\">\n",
              "      <th></th>\n",
              "      <th>PassengerId</th>\n",
              "      <th>Pclass</th>\n",
              "      <th>Name</th>\n",
              "      <th>Sex</th>\n",
              "      <th>Age</th>\n",
              "      <th>SibSp</th>\n",
              "      <th>Parch</th>\n",
              "      <th>Ticket</th>\n",
              "      <th>Fare</th>\n",
              "      <th>Cabin</th>\n",
              "      <th>Embarked</th>\n",
              "    </tr>\n",
              "  </thead>\n",
              "  <tbody>\n",
              "    <tr>\n",
              "      <th>0</th>\n",
              "      <td>1</td>\n",
              "      <td>3</td>\n",
              "      <td>Braund, Mr. Owen Harris</td>\n",
              "      <td>male</td>\n",
              "      <td>22.0</td>\n",
              "      <td>1</td>\n",
              "      <td>0</td>\n",
              "      <td>A/5 21171</td>\n",
              "      <td>7.2500</td>\n",
              "      <td>NaN</td>\n",
              "      <td>S</td>\n",
              "    </tr>\n",
              "    <tr>\n",
              "      <th>1</th>\n",
              "      <td>2</td>\n",
              "      <td>1</td>\n",
              "      <td>Cumings, Mrs. John Bradley (Florence Briggs Th...</td>\n",
              "      <td>female</td>\n",
              "      <td>38.0</td>\n",
              "      <td>1</td>\n",
              "      <td>0</td>\n",
              "      <td>PC 17599</td>\n",
              "      <td>71.2833</td>\n",
              "      <td>C85</td>\n",
              "      <td>C</td>\n",
              "    </tr>\n",
              "    <tr>\n",
              "      <th>2</th>\n",
              "      <td>3</td>\n",
              "      <td>3</td>\n",
              "      <td>Heikkinen, Miss. Laina</td>\n",
              "      <td>female</td>\n",
              "      <td>26.0</td>\n",
              "      <td>0</td>\n",
              "      <td>0</td>\n",
              "      <td>STON/O2. 3101282</td>\n",
              "      <td>7.9250</td>\n",
              "      <td>NaN</td>\n",
              "      <td>S</td>\n",
              "    </tr>\n",
              "    <tr>\n",
              "      <th>3</th>\n",
              "      <td>4</td>\n",
              "      <td>1</td>\n",
              "      <td>Futrelle, Mrs. Jacques Heath (Lily May Peel)</td>\n",
              "      <td>female</td>\n",
              "      <td>35.0</td>\n",
              "      <td>1</td>\n",
              "      <td>0</td>\n",
              "      <td>113803</td>\n",
              "      <td>53.1000</td>\n",
              "      <td>C123</td>\n",
              "      <td>S</td>\n",
              "    </tr>\n",
              "    <tr>\n",
              "      <th>4</th>\n",
              "      <td>5</td>\n",
              "      <td>3</td>\n",
              "      <td>Allen, Mr. William Henry</td>\n",
              "      <td>male</td>\n",
              "      <td>35.0</td>\n",
              "      <td>0</td>\n",
              "      <td>0</td>\n",
              "      <td>373450</td>\n",
              "      <td>8.0500</td>\n",
              "      <td>NaN</td>\n",
              "      <td>S</td>\n",
              "    </tr>\n",
              "  </tbody>\n",
              "</table>\n",
              "</div>"
            ],
            "text/plain": [
              "   PassengerId  Pclass                                               Name  \\\n",
              "0            1       3                            Braund, Mr. Owen Harris   \n",
              "1            2       1  Cumings, Mrs. John Bradley (Florence Briggs Th...   \n",
              "2            3       3                             Heikkinen, Miss. Laina   \n",
              "3            4       1       Futrelle, Mrs. Jacques Heath (Lily May Peel)   \n",
              "4            5       3                           Allen, Mr. William Henry   \n",
              "\n",
              "      Sex   Age  SibSp  Parch            Ticket     Fare Cabin Embarked  \n",
              "0    male  22.0      1      0         A/5 21171   7.2500   NaN        S  \n",
              "1  female  38.0      1      0          PC 17599  71.2833   C85        C  \n",
              "2  female  26.0      0      0  STON/O2. 3101282   7.9250   NaN        S  \n",
              "3  female  35.0      1      0            113803  53.1000  C123        S  \n",
              "4    male  35.0      0      0            373450   8.0500   NaN        S  "
            ]
          },
          "execution_count": 5,
          "metadata": {},
          "output_type": "execute_result"
        }
      ],
      "source": [
        "train.head()"
      ]
    },
    {
      "cell_type": "code",
      "execution_count": null,
      "id": "4aa8db21-d653-42cb-8ad4-bf8a619d18f9",
      "metadata": {
        "id": "4aa8db21-d653-42cb-8ad4-bf8a619d18f9"
      },
      "outputs": [],
      "source": [
        "#PassengerId\n",
        "ID = test['PassengerId']\n",
        "test = test.drop(['PassengerId'], axis = 1)\n",
        "train = train.drop(['PassengerId'], axis = 1)"
      ]
    },
    {
      "cell_type": "markdown",
      "id": "fbb9240a-8c50-4a11-adeb-843acd1d6482",
      "metadata": {
        "id": "fbb9240a-8c50-4a11-adeb-843acd1d6482"
      },
      "source": [
        "## Combine Data"
      ]
    },
    {
      "cell_type": "code",
      "execution_count": null,
      "id": "a4006fb5-5657-4453-8e8a-5f6137dcb219",
      "metadata": {
        "id": "a4006fb5-5657-4453-8e8a-5f6137dcb219"
      },
      "outputs": [],
      "source": [
        "df = pd.concat([train, test], axis = 0).reset_index(drop =  True)\n",
        "\n",
        "df =  df.drop(['Name'], axis = 1)"
      ]
    },
    {
      "cell_type": "code",
      "execution_count": null,
      "id": "cf65dc2f-d890-461e-a9d3-6c3e86f0b386",
      "metadata": {
        "id": "cf65dc2f-d890-461e-a9d3-6c3e86f0b386",
        "outputId": "e9733166-e847-4762-a20d-c8c6c2de4d10"
      },
      "outputs": [
        {
          "name": "stdout",
          "output_type": "stream",
          "text": [
            "<class 'pandas.core.frame.DataFrame'>\n",
            "RangeIndex: 1309 entries, 0 to 1308\n",
            "Data columns (total 9 columns):\n",
            " #   Column    Non-Null Count  Dtype  \n",
            "---  ------    --------------  -----  \n",
            " 0   Pclass    1309 non-null   int64  \n",
            " 1   Sex       1309 non-null   object \n",
            " 2   Age       1046 non-null   float64\n",
            " 3   SibSp     1309 non-null   int64  \n",
            " 4   Parch     1309 non-null   int64  \n",
            " 5   Ticket    1309 non-null   object \n",
            " 6   Fare      1308 non-null   float64\n",
            " 7   Cabin     295 non-null    object \n",
            " 8   Embarked  1307 non-null   object \n",
            "dtypes: float64(2), int64(3), object(4)\n",
            "memory usage: 92.2+ KB\n"
          ]
        }
      ],
      "source": [
        "df.info()"
      ]
    },
    {
      "cell_type": "code",
      "execution_count": null,
      "id": "b4546359-ab72-4458-a3b1-be2056bbd36d",
      "metadata": {
        "id": "b4546359-ab72-4458-a3b1-be2056bbd36d",
        "outputId": "46c3c220-2206-40db-f4be-19a870d22b97"
      },
      "outputs": [
        {
          "data": {
            "text/plain": [
              "Pclass         0\n",
              "Sex            0\n",
              "Age          263\n",
              "SibSp          0\n",
              "Parch          0\n",
              "Ticket         0\n",
              "Fare           1\n",
              "Cabin       1014\n",
              "Embarked       2\n",
              "dtype: int64"
            ]
          },
          "execution_count": 9,
          "metadata": {},
          "output_type": "execute_result"
        }
      ],
      "source": [
        "df.isna().sum()"
      ]
    },
    {
      "cell_type": "markdown",
      "id": "9f514be9-2e38-43da-9e40-c788bac3df5c",
      "metadata": {
        "id": "9f514be9-2e38-43da-9e40-c788bac3df5c"
      },
      "source": [
        "<a id=\"data\"></a>\n",
        "# <b><span style='color:green'>Step 3 |</span><span style='color:#hdc388'> ⚙️ Processsing and Cleaning</span></b>"
      ]
    },
    {
      "cell_type": "markdown",
      "id": "f7700020-c4a1-4c1a-b847-f6256f0ba207",
      "metadata": {
        "id": "f7700020-c4a1-4c1a-b847-f6256f0ba207"
      },
      "source": [
        "## Categoricals"
      ]
    },
    {
      "cell_type": "code",
      "execution_count": null,
      "id": "8eae83e9-9813-40b2-8b08-60a831ccfe10",
      "metadata": {
        "id": "8eae83e9-9813-40b2-8b08-60a831ccfe10",
        "outputId": "f4f16e1f-e656-4ec5-d631-2dec6a0c300c"
      },
      "outputs": [
        {
          "data": {
            "text/plain": [
              "Index(['Sex', 'Ticket', 'Cabin', 'Embarked'], dtype='object')"
            ]
          },
          "execution_count": 10,
          "metadata": {},
          "output_type": "execute_result"
        }
      ],
      "source": [
        "df.select_dtypes(object).columns"
      ]
    },
    {
      "cell_type": "markdown",
      "id": "78c5b038-951b-4742-a3a6-ef19f43ecc6b",
      "metadata": {
        "id": "78c5b038-951b-4742-a3a6-ef19f43ecc6b"
      },
      "source": [
        "- **Ticket**"
      ]
    },
    {
      "cell_type": "code",
      "execution_count": null,
      "id": "9b5f6650-6704-425f-b2a8-b987c3eba758",
      "metadata": {
        "id": "9b5f6650-6704-425f-b2a8-b987c3eba758"
      },
      "outputs": [],
      "source": [
        "df = df.drop(['Ticket'], axis = 1)"
      ]
    },
    {
      "cell_type": "markdown",
      "id": "b088acd3-9d78-4a5c-87a4-7f78fa72565c",
      "metadata": {
        "id": "b088acd3-9d78-4a5c-87a4-7f78fa72565c"
      },
      "source": [
        "- **Cabin**"
      ]
    },
    {
      "cell_type": "code",
      "execution_count": null,
      "id": "59431cb8-47fb-4c6c-afed-6e3c31659fd0",
      "metadata": {
        "id": "59431cb8-47fb-4c6c-afed-6e3c31659fd0",
        "outputId": "005b0c77-076d-44d6-db5b-5e2428dbfe2a"
      },
      "outputs": [
        {
          "name": "stdout",
          "output_type": "stream",
          "text": [
            "Percentage of missing values: 77.5% \n"
          ]
        }
      ],
      "source": [
        "print('Percentage of missing values: {:.1f}% '.format(df['Cabin'].isna().sum()/len(df)*100))"
      ]
    },
    {
      "cell_type": "code",
      "execution_count": null,
      "id": "067963f0-b321-4349-947d-c49a0ec87a73",
      "metadata": {
        "id": "067963f0-b321-4349-947d-c49a0ec87a73"
      },
      "outputs": [],
      "source": [
        "df = df.drop(['Cabin'], axis =  1)"
      ]
    },
    {
      "cell_type": "markdown",
      "id": "e66828a5-7d8a-4b78-a76a-dad32df54b54",
      "metadata": {
        "id": "e66828a5-7d8a-4b78-a76a-dad32df54b54"
      },
      "source": [
        "- **Embarked**"
      ]
    },
    {
      "cell_type": "markdown",
      "id": "188df726-1ea6-4da9-8177-3e02eb80be4e",
      "metadata": {
        "id": "188df726-1ea6-4da9-8177-3e02eb80be4e"
      },
      "source": [
        "df['Embarked'].value_counts()"
      ]
    },
    {
      "cell_type": "code",
      "execution_count": null,
      "id": "41ac918b-a639-49fe-bfba-d44863e89fdc",
      "metadata": {
        "id": "41ac918b-a639-49fe-bfba-d44863e89fdc"
      },
      "outputs": [],
      "source": [
        "df['Embarked'] =  df['Embarked'].fillna('S')"
      ]
    },
    {
      "cell_type": "markdown",
      "id": "9c3c99ef-5a29-4bce-bf04-ea6547adc60f",
      "metadata": {
        "id": "9c3c99ef-5a29-4bce-bf04-ea6547adc60f"
      },
      "source": [
        "## Numericals"
      ]
    },
    {
      "cell_type": "code",
      "execution_count": null,
      "id": "1e7ec85a-2208-4e04-9a31-3c419a62d0dd",
      "metadata": {
        "id": "1e7ec85a-2208-4e04-9a31-3c419a62d0dd",
        "outputId": "c52463f1-8372-4d12-ee32-17456fb6bda8"
      },
      "outputs": [
        {
          "data": {
            "text/plain": [
              "Index(['Pclass', 'Age', 'SibSp', 'Parch', 'Fare'], dtype='object')"
            ]
          },
          "execution_count": 15,
          "metadata": {},
          "output_type": "execute_result"
        }
      ],
      "source": [
        "df.select_dtypes(np.number).columns"
      ]
    },
    {
      "cell_type": "markdown",
      "id": "b4988b8c-a01c-44cf-a8ba-327232f46cde",
      "metadata": {
        "id": "b4988b8c-a01c-44cf-a8ba-327232f46cde"
      },
      "source": [
        "- **Age and Fare**"
      ]
    },
    {
      "cell_type": "code",
      "execution_count": null,
      "id": "a8f7a071-9927-4fde-8eca-b3c0afae347e",
      "metadata": {
        "id": "a8f7a071-9927-4fde-8eca-b3c0afae347e"
      },
      "outputs": [],
      "source": [
        "#Imputer Fare using the mean value\n",
        "df['Fare'] = df['Fare'].fillna(round(df['Fare'].mean()))"
      ]
    },
    {
      "cell_type": "code",
      "execution_count": null,
      "id": "bdb1c9f8-dbc1-48f5-ad50-8c3c8306f6da",
      "metadata": {
        "id": "bdb1c9f8-dbc1-48f5-ad50-8c3c8306f6da"
      },
      "outputs": [],
      "source": [
        "#Impute according to its distribution\n",
        "\n",
        "distribution = df['Age'].value_counts(normalize=True)\n",
        "imputer = np.random.choice(distribution.index, size = df['Age'].isna().sum(),  p =  distribution)\n",
        "\n",
        "df.loc[df[df['Age'].isna()].index, 'Age'] =  imputer"
      ]
    },
    {
      "cell_type": "code",
      "execution_count": null,
      "id": "adafcdee-633f-4c05-acda-0983a38b75ca",
      "metadata": {
        "id": "adafcdee-633f-4c05-acda-0983a38b75ca",
        "outputId": "5b5a051f-776b-4363-d0b7-5d3b9697f712"
      },
      "outputs": [
        {
          "data": {
            "text/plain": [
              "Pclass      0\n",
              "Sex         0\n",
              "Age         0\n",
              "SibSp       0\n",
              "Parch       0\n",
              "Fare        0\n",
              "Embarked    0\n",
              "dtype: int64"
            ]
          },
          "execution_count": 18,
          "metadata": {},
          "output_type": "execute_result"
        }
      ],
      "source": [
        "df.isna().sum()"
      ]
    },
    {
      "cell_type": "code",
      "execution_count": null,
      "id": "8dc5737b-7c67-4f63-a7f3-8ec6774f7fc5",
      "metadata": {
        "id": "8dc5737b-7c67-4f63-a7f3-8ec6774f7fc5"
      },
      "outputs": [],
      "source": [
        "df_1 = df.copy()"
      ]
    },
    {
      "cell_type": "markdown",
      "id": "880886ac-2f97-4853-9553-59912ab7968f",
      "metadata": {
        "id": "880886ac-2f97-4853-9553-59912ab7968f"
      },
      "source": [
        "<a id=\"visualization\"></a>\n",
        "# <b><span style='color:green'>Step 4 |</span><span style='color:#hdc388'> 📊 Exploratory Data Analysis</span></b>"
      ]
    },
    {
      "cell_type": "code",
      "execution_count": null,
      "id": "4039a137-7e83-48af-ac9e-efb40f416aae",
      "metadata": {
        "id": "4039a137-7e83-48af-ac9e-efb40f416aae"
      },
      "outputs": [],
      "source": [
        "df_visual = pd.concat([df_1.loc[:train.index.max(),:], target], axis = 1)"
      ]
    },
    {
      "cell_type": "code",
      "execution_count": null,
      "id": "683435a5-7d6e-4480-82c6-fb4d755c4ed9",
      "metadata": {
        "id": "683435a5-7d6e-4480-82c6-fb4d755c4ed9",
        "outputId": "3e4bfd2f-69f2-451f-a4e2-a81dd5f8fe21"
      },
      "outputs": [
        {
          "name": "stdout",
          "output_type": "stream",
          "text": [
            "Sex     Survived\n",
            "female  0           25.796178\n",
            "        1           74.203822\n",
            "male    0           81.109185\n",
            "        1           18.890815\n",
            "Name: Survived, dtype: float64\n"
          ]
        },
        {
          "data": {
            "image/png": "[encoded data removed]",
            "text/plain": [
              "<Figure size 550x450 with 1 Axes>"
            ]
          },
          "metadata": {},
          "output_type": "display_data"
        },
        {
          "name": "stdout",
          "output_type": "stream",
          "text": [
            "Embarked  Survived\n",
            "C         0           44.642857\n",
            "          1           55.357143\n",
            "Q         0           61.038961\n",
            "          1           38.961039\n",
            "S         0           66.099071\n",
            "          1           33.900929\n",
            "Name: Survived, dtype: float64\n"
          ]
        },
        {
          "data": {
            "image/png": "[encoded data removed]",
            "text/plain": [
              "<Figure size 550x450 with 1 Axes>"
            ]
          },
          "metadata": {},
          "output_type": "display_data"
        }
      ],
      "source": [
        "for col in df_visual.select_dtypes(object):\n",
        "    plt.figure(figsize=(5.5,4.5))\n",
        "    sns.countplot(data=df_visual,x=col,hue='Survived',palette='Set2')\n",
        "    print(df_visual.groupby([col,'Survived'])['Survived'].size()/df_visual.groupby([col])['Survived'].size()*100)\n",
        "    plt.show()"
      ]
    },
    {
      "cell_type": "markdown",
      "id": "b92a596e-a5ef-4171-9eb1-90f290d845b6",
      "metadata": {
        "id": "b92a596e-a5ef-4171-9eb1-90f290d845b6"
      },
      "source": [
        "<a id=\"split\"></a>\n",
        "# <b><span style='color:green'>Step 5 |</span><span style='color:#hdc388'> 🗂️ Encoding and Splitting for Modeling</span></b>"
      ]
    },
    {
      "cell_type": "markdown",
      "id": "0fa92f12-dfb5-4623-a487-8d1694a5c4fc",
      "metadata": {
        "id": "0fa92f12-dfb5-4623-a487-8d1694a5c4fc"
      },
      "source": [
        "## Encoding categoricals"
      ]
    },
    {
      "cell_type": "code",
      "execution_count": null,
      "id": "4ba411ff-3435-4b61-80dd-f238293a7bff",
      "metadata": {
        "id": "4ba411ff-3435-4b61-80dd-f238293a7bff"
      },
      "outputs": [],
      "source": [
        "df_1 = pd.get_dummies(df_1, dtype = 'int64')"
      ]
    },
    {
      "cell_type": "code",
      "execution_count": null,
      "id": "d26c7a0c-2110-4b8e-b75f-149dab6f5c9c",
      "metadata": {
        "id": "d26c7a0c-2110-4b8e-b75f-149dab6f5c9c",
        "outputId": "12dbcbd1-ac5e-4444-ca7d-1c58bfcaf392"
      },
      "outputs": [
        {
          "data": {
            "text/html": [
              "<div>\n",
              "<style scoped>\n",
              "    .dataframe tbody tr th:only-of-type {\n",
              "        vertical-align: middle;\n",
              "    }\n",
              "\n",
              "    .dataframe tbody tr th {\n",
              "        vertical-align: top;\n",
              "    }\n",
              "\n",
              "    .dataframe thead th {\n",
              "        text-align: right;\n",
              "    }\n",
              "</style>\n",
              "<table border=\"1\" class=\"dataframe\">\n",
              "  <thead>\n",
              "    <tr style=\"text-align: right;\">\n",
              "      <th></th>\n",
              "      <th>Pclass</th>\n",
              "      <th>Age</th>\n",
              "      <th>SibSp</th>\n",
              "      <th>Parch</th>\n",
              "      <th>Fare</th>\n",
              "      <th>Sex_female</th>\n",
              "      <th>Sex_male</th>\n",
              "      <th>Embarked_C</th>\n",
              "      <th>Embarked_Q</th>\n",
              "      <th>Embarked_S</th>\n",
              "    </tr>\n",
              "  </thead>\n",
              "  <tbody>\n",
              "    <tr>\n",
              "      <th>0</th>\n",
              "      <td>3</td>\n",
              "      <td>22.0</td>\n",
              "      <td>1</td>\n",
              "      <td>0</td>\n",
              "      <td>7.2500</td>\n",
              "      <td>0</td>\n",
              "      <td>1</td>\n",
              "      <td>0</td>\n",
              "      <td>0</td>\n",
              "      <td>1</td>\n",
              "    </tr>\n",
              "    <tr>\n",
              "      <th>1</th>\n",
              "      <td>1</td>\n",
              "      <td>38.0</td>\n",
              "      <td>1</td>\n",
              "      <td>0</td>\n",
              "      <td>71.2833</td>\n",
              "      <td>1</td>\n",
              "      <td>0</td>\n",
              "      <td>1</td>\n",
              "      <td>0</td>\n",
              "      <td>0</td>\n",
              "    </tr>\n",
              "    <tr>\n",
              "      <th>2</th>\n",
              "      <td>3</td>\n",
              "      <td>26.0</td>\n",
              "      <td>0</td>\n",
              "      <td>0</td>\n",
              "      <td>7.9250</td>\n",
              "      <td>1</td>\n",
              "      <td>0</td>\n",
              "      <td>0</td>\n",
              "      <td>0</td>\n",
              "      <td>1</td>\n",
              "    </tr>\n",
              "    <tr>\n",
              "      <th>3</th>\n",
              "      <td>1</td>\n",
              "      <td>35.0</td>\n",
              "      <td>1</td>\n",
              "      <td>0</td>\n",
              "      <td>53.1000</td>\n",
              "      <td>1</td>\n",
              "      <td>0</td>\n",
              "      <td>0</td>\n",
              "      <td>0</td>\n",
              "      <td>1</td>\n",
              "    </tr>\n",
              "    <tr>\n",
              "      <th>4</th>\n",
              "      <td>3</td>\n",
              "      <td>35.0</td>\n",
              "      <td>0</td>\n",
              "      <td>0</td>\n",
              "      <td>8.0500</td>\n",
              "      <td>0</td>\n",
              "      <td>1</td>\n",
              "      <td>0</td>\n",
              "      <td>0</td>\n",
              "      <td>1</td>\n",
              "    </tr>\n",
              "  </tbody>\n",
              "</table>\n",
              "</div>"
            ],
            "text/plain": [
              "   Pclass   Age  SibSp  Parch     Fare  Sex_female  Sex_male  Embarked_C  \\\n",
              "0       3  22.0      1      0   7.2500           0         1           0   \n",
              "1       1  38.0      1      0  71.2833           1         0           1   \n",
              "2       3  26.0      0      0   7.9250           1         0           0   \n",
              "3       1  35.0      1      0  53.1000           1         0           0   \n",
              "4       3  35.0      0      0   8.0500           0         1           0   \n",
              "\n",
              "   Embarked_Q  Embarked_S  \n",
              "0           0           1  \n",
              "1           0           0  \n",
              "2           0           1  \n",
              "3           0           1  \n",
              "4           0           1  "
            ]
          },
          "execution_count": 23,
          "metadata": {},
          "output_type": "execute_result"
        }
      ],
      "source": [
        "df_1.head()"
      ]
    },
    {
      "cell_type": "code",
      "execution_count": null,
      "id": "9d430270-452b-45b1-ae72-be26183df04d",
      "metadata": {
        "id": "9d430270-452b-45b1-ae72-be26183df04d"
      },
      "outputs": [],
      "source": [
        "# Normalize Age and Fare:\n",
        "scaler = MinMaxScaler()\n",
        "df_1[['Age', 'Fare']] = scaler.fit_transform(df_1[['Age', 'Fare']])"
      ]
    },
    {
      "cell_type": "code",
      "execution_count": null,
      "id": "fb0a920f-e5a6-44ce-bd3f-3901f8023326",
      "metadata": {
        "id": "fb0a920f-e5a6-44ce-bd3f-3901f8023326",
        "outputId": "abe60ca3-6e8e-4717-a403-04ac805254e9"
      },
      "outputs": [
        {
          "data": {
            "text/html": [
              "<div>\n",
              "<style scoped>\n",
              "    .dataframe tbody tr th:only-of-type {\n",
              "        vertical-align: middle;\n",
              "    }\n",
              "\n",
              "    .dataframe tbody tr th {\n",
              "        vertical-align: top;\n",
              "    }\n",
              "\n",
              "    .dataframe thead th {\n",
              "        text-align: right;\n",
              "    }\n",
              "</style>\n",
              "<table border=\"1\" class=\"dataframe\">\n",
              "  <thead>\n",
              "    <tr style=\"text-align: right;\">\n",
              "      <th></th>\n",
              "      <th>Pclass</th>\n",
              "      <th>Age</th>\n",
              "      <th>SibSp</th>\n",
              "      <th>Parch</th>\n",
              "      <th>Fare</th>\n",
              "      <th>Sex_female</th>\n",
              "      <th>Sex_male</th>\n",
              "      <th>Embarked_C</th>\n",
              "      <th>Embarked_Q</th>\n",
              "      <th>Embarked_S</th>\n",
              "    </tr>\n",
              "  </thead>\n",
              "  <tbody>\n",
              "    <tr>\n",
              "      <th>0</th>\n",
              "      <td>3</td>\n",
              "      <td>0.273456</td>\n",
              "      <td>1</td>\n",
              "      <td>0</td>\n",
              "      <td>0.014151</td>\n",
              "      <td>0</td>\n",
              "      <td>1</td>\n",
              "      <td>0</td>\n",
              "      <td>0</td>\n",
              "      <td>1</td>\n",
              "    </tr>\n",
              "    <tr>\n",
              "      <th>1</th>\n",
              "      <td>1</td>\n",
              "      <td>0.473882</td>\n",
              "      <td>1</td>\n",
              "      <td>0</td>\n",
              "      <td>0.139136</td>\n",
              "      <td>1</td>\n",
              "      <td>0</td>\n",
              "      <td>1</td>\n",
              "      <td>0</td>\n",
              "      <td>0</td>\n",
              "    </tr>\n",
              "    <tr>\n",
              "      <th>2</th>\n",
              "      <td>3</td>\n",
              "      <td>0.323563</td>\n",
              "      <td>0</td>\n",
              "      <td>0</td>\n",
              "      <td>0.015469</td>\n",
              "      <td>1</td>\n",
              "      <td>0</td>\n",
              "      <td>0</td>\n",
              "      <td>0</td>\n",
              "      <td>1</td>\n",
              "    </tr>\n",
              "    <tr>\n",
              "      <th>3</th>\n",
              "      <td>1</td>\n",
              "      <td>0.436302</td>\n",
              "      <td>1</td>\n",
              "      <td>0</td>\n",
              "      <td>0.103644</td>\n",
              "      <td>1</td>\n",
              "      <td>0</td>\n",
              "      <td>0</td>\n",
              "      <td>0</td>\n",
              "      <td>1</td>\n",
              "    </tr>\n",
              "    <tr>\n",
              "      <th>4</th>\n",
              "      <td>3</td>\n",
              "      <td>0.436302</td>\n",
              "      <td>0</td>\n",
              "      <td>0</td>\n",
              "      <td>0.015713</td>\n",
              "      <td>0</td>\n",
              "      <td>1</td>\n",
              "      <td>0</td>\n",
              "      <td>0</td>\n",
              "      <td>1</td>\n",
              "    </tr>\n",
              "  </tbody>\n",
              "</table>\n",
              "</div>"
            ],
            "text/plain": [
              "   Pclass       Age  SibSp  Parch      Fare  Sex_female  Sex_male  Embarked_C  \\\n",
              "0       3  0.273456      1      0  0.014151           0         1           0   \n",
              "1       1  0.473882      1      0  0.139136           1         0           1   \n",
              "2       3  0.323563      0      0  0.015469           1         0           0   \n",
              "3       1  0.436302      1      0  0.103644           1         0           0   \n",
              "4       3  0.436302      0      0  0.015713           0         1           0   \n",
              "\n",
              "   Embarked_Q  Embarked_S  \n",
              "0           0           1  \n",
              "1           0           0  \n",
              "2           0           1  \n",
              "3           0           1  \n",
              "4           0           1  "
            ]
          },
          "execution_count": 25,
          "metadata": {},
          "output_type": "execute_result"
        }
      ],
      "source": [
        "df_1.head()"
      ]
    },
    {
      "cell_type": "code",
      "execution_count": null,
      "id": "a89d14f7-a2b7-4614-b68f-6280757a21d4",
      "metadata": {
        "id": "a89d14f7-a2b7-4614-b68f-6280757a21d4",
        "outputId": "25556688-6e2f-4eba-8c0f-a1eb567aa096"
      },
      "outputs": [
        {
          "data": {
            "text/plain": [
              "146"
            ]
          },
          "execution_count": 26,
          "metadata": {},
          "output_type": "execute_result"
        }
      ],
      "source": [
        "#We have duplicated in the final df?\n",
        "df_1.duplicated().sum()"
      ]
    },
    {
      "cell_type": "markdown",
      "id": "7cc6a9bd-690b-4bb6-b380-77be95e8de6d",
      "metadata": {
        "id": "7cc6a9bd-690b-4bb6-b380-77be95e8de6d"
      },
      "source": [
        "## Spliting"
      ]
    },
    {
      "cell_type": "code",
      "execution_count": null,
      "id": "0e07919b-a8da-4652-a7b5-647ca910178f",
      "metadata": {
        "id": "0e07919b-a8da-4652-a7b5-647ca910178f"
      },
      "outputs": [],
      "source": [
        "train_final = (df_1.loc[:train.index.max(),:]).copy()\n",
        "test_final  = (df_1.loc[train.index.max()+1:,:].reset_index(drop = True)).copy()"
      ]
    },
    {
      "cell_type": "code",
      "execution_count": null,
      "id": "b3161a74-4a97-4b2d-81f8-5dec6bff1372",
      "metadata": {
        "id": "b3161a74-4a97-4b2d-81f8-5dec6bff1372"
      },
      "outputs": [],
      "source": [
        "duplicated_index = train_final[train_final.duplicated(keep=False)].index"
      ]
    },
    {
      "cell_type": "code",
      "execution_count": null,
      "id": "a97627e9-578f-486b-8040-d766e93734a8",
      "metadata": {
        "id": "a97627e9-578f-486b-8040-d766e93734a8"
      },
      "outputs": [],
      "source": [
        "target = target.drop(duplicated_index, axis = 0)"
      ]
    },
    {
      "cell_type": "code",
      "execution_count": null,
      "id": "86bfb9c5-f38a-4086-b48f-92f3bdf3e32c",
      "metadata": {
        "id": "86bfb9c5-f38a-4086-b48f-92f3bdf3e32c"
      },
      "outputs": [],
      "source": [
        "train_final = train_final.drop(duplicated_index)"
      ]
    },
    {
      "cell_type": "code",
      "execution_count": null,
      "id": "c66a7b59-cdd2-4b51-986c-45faaa0ef63a",
      "metadata": {
        "id": "c66a7b59-cdd2-4b51-986c-45faaa0ef63a"
      },
      "outputs": [],
      "source": [
        "X_train, X_test, y_train, y_test = train_test_split(train_final, target,test_size=0.2, random_state=2024, stratify=target)"
      ]
    },
    {
      "cell_type": "code",
      "execution_count": null,
      "id": "629aaf20-c847-49e7-a784-083b54f54eb9",
      "metadata": {
        "id": "629aaf20-c847-49e7-a784-083b54f54eb9"
      },
      "outputs": [],
      "source": [
        "#One-hot encoding\n",
        "y_train = to_categorical(y_train)\n",
        "y_test = to_categorical(y_test)"
      ]
    },
    {
      "cell_type": "markdown",
      "id": "c8157e43-74bb-46c4-ac4b-73d0b856fa1d",
      "metadata": {
        "id": "c8157e43-74bb-46c4-ac4b-73d0b856fa1d"
      },
      "source": [
        "<a id=\"split\"></a>\n",
        "# <b><span style='color:green'>Step 6 |</span><span style='color:#hdc388'> ⚒️ Modeling</span></b>"
      ]
    },
    {
      "cell_type": "code",
      "execution_count": null,
      "id": "72110111-4649-4a10-8396-19df65b97b34",
      "metadata": {
        "id": "72110111-4649-4a10-8396-19df65b97b34"
      },
      "outputs": [],
      "source": [
        "#Parameters\n",
        "input_size = X_train.shape[1]\n",
        "neural_units = 10000\n",
        "batch_size =8\n",
        "dropout = 0.45\n",
        "num_labels = len(np.unique(y_train))"
      ]
    },
    {
      "cell_type": "code",
      "execution_count": null,
      "id": "792b3075-851c-4137-bb1b-a1644a078a6c",
      "metadata": {
        "id": "792b3075-851c-4137-bb1b-a1644a078a6c",
        "outputId": "aa174401-7302-44bd-9885-374084363e64"
      },
      "outputs": [
        {
          "name": "stderr",
          "output_type": "stream",
          "text": [
            "2024-05-10 04:13:18.988137: W external/local_tsl/tsl/framework/cpu_allocator_impl.cc:83] Allocation of 400000000 exceeds 10% of free system memory.\n",
            "2024-05-10 04:13:19.602744: W external/local_tsl/tsl/framework/cpu_allocator_impl.cc:83] Allocation of 400000000 exceeds 10% of free system memory.\n",
            "2024-05-10 04:13:28.307231: W external/local_tsl/tsl/framework/cpu_allocator_impl.cc:83] Allocation of 400000000 exceeds 10% of free system memory.\n"
          ]
        }
      ],
      "source": [
        "model =  Sequential()\n",
        "model.add(Dense(neural_units, input_shape = [input_size]))\n",
        "model.add(Activation('relu'))\n",
        "model.add(Dropout(dropout))\n",
        "\n",
        "model.add(Dense(neural_units))\n",
        "model.add(Activation('relu'))\n",
        "model.add(Dropout(dropout))\n",
        "\n",
        "model.add(Dense(num_labels))\n",
        "model.add(Activation('softmax'))\n",
        "\n",
        "model.summary()"
      ]
    },
    {
      "cell_type": "code",
      "execution_count": null,
      "id": "fec1e086-2d2c-4b2c-8cd5-4569d8f43413",
      "metadata": {
        "id": "fec1e086-2d2c-4b2c-8cd5-4569d8f43413"
      },
      "outputs": [],
      "source": [
        "model.compile(loss = 'categorical_crossentropy',\n",
        "             optimizer = 'adam',\n",
        "             metrics = ['accuracy'])"
      ]
    },
    {
      "cell_type": "markdown",
      "id": "8f13abdb-49a6-4563-8595-f93fa3af466d",
      "metadata": {
        "id": "8f13abdb-49a6-4563-8595-f93fa3af466d"
      },
      "source": [
        "## Training and Metrics"
      ]
    },
    {
      "cell_type": "code",
      "execution_count": null,
      "id": "bc8c07bf-5762-4a09-a2af-28898a928706",
      "metadata": {
        "id": "bc8c07bf-5762-4a09-a2af-28898a928706",
        "outputId": "536a590d-2de8-4bec-ba9c-a89271f4fccb"
      },
      "outputs": [
        {
          "name": "stdout",
          "output_type": "stream",
          "text": [
            "Epoch 1/10\n",
            "\u001b[1m76/76\u001b[0m \u001b[32m━━━━━━━━━━━━━━━━━━━━\u001b[0m\u001b[37m\u001b[0m \u001b[1m1s\u001b[0m 12ms/step - accuracy: 0.8578 - loss: 0.3520\n",
            "Epoch 2/10\n",
            "\u001b[1m76/76\u001b[0m \u001b[32m━━━━━━━━━━━━━━━━━━━━\u001b[0m\u001b[37m\u001b[0m \u001b[1m1s\u001b[0m 13ms/step - accuracy: 0.8473 - loss: 0.3451\n",
            "Epoch 3/10\n",
            "\u001b[1m76/76\u001b[0m \u001b[32m━━━━━━━━━━━━━━━━━━━━\u001b[0m\u001b[37m\u001b[0m \u001b[1m1s\u001b[0m 11ms/step - accuracy: 0.8342 - loss: 0.3476\n",
            "Epoch 4/10\n",
            "\u001b[1m76/76\u001b[0m \u001b[32m━━━━━━━━━━━━━━━━━━━━\u001b[0m\u001b[37m\u001b[0m \u001b[1m1s\u001b[0m 12ms/step - accuracy: 0.8541 - loss: 0.3599\n",
            "Epoch 5/10\n",
            "\u001b[1m76/76\u001b[0m \u001b[32m━━━━━━━━━━━━━━━━━━━━\u001b[0m\u001b[37m\u001b[0m \u001b[1m1s\u001b[0m 11ms/step - accuracy: 0.8460 - loss: 0.3401\n",
            "Epoch 6/10\n",
            "\u001b[1m76/76\u001b[0m \u001b[32m━━━━━━━━━━━━━━━━━━━━\u001b[0m\u001b[37m\u001b[0m \u001b[1m1s\u001b[0m 12ms/step - accuracy: 0.8404 - loss: 0.3586\n",
            "Epoch 7/10\n",
            "\u001b[1m76/76\u001b[0m \u001b[32m━━━━━━━━━━━━━━━━━━━━\u001b[0m\u001b[37m\u001b[0m \u001b[1m1s\u001b[0m 12ms/step - accuracy: 0.8516 - loss: 0.3385\n",
            "Epoch 8/10\n",
            "\u001b[1m76/76\u001b[0m \u001b[32m━━━━━━━━━━━━━━━━━━━━\u001b[0m\u001b[37m\u001b[0m \u001b[1m1s\u001b[0m 13ms/step - accuracy: 0.8337 - loss: 0.3383\n",
            "Epoch 9/10\n",
            "\u001b[1m76/76\u001b[0m \u001b[32m━━━━━━━━━━━━━━━━━━━━\u001b[0m\u001b[37m\u001b[0m \u001b[1m1s\u001b[0m 11ms/step - accuracy: 0.8435 - loss: 0.3470\n",
            "Epoch 10/10\n",
            "\u001b[1m76/76\u001b[0m \u001b[32m━━━━━━━━━━━━━━━━━━━━\u001b[0m\u001b[37m\u001b[0m \u001b[1m1s\u001b[0m 12ms/step - accuracy: 0.8342 - loss: 0.3518\n"
          ]
        },
        {
          "data": {
            "text/plain": [
              "<keras.src.callbacks.history.History at 0x7f2e5c7af6d0>"
            ]
          },
          "execution_count": 87,
          "metadata": {},
          "output_type": "execute_result"
        }
      ],
      "source": [
        "model.fit(X_train, y_train, epochs=10, batch_size = batch_size)"
      ]
    },
    {
      "cell_type": "code",
      "execution_count": null,
      "id": "8a460c09-b22a-4bb5-becf-68810d0a0511",
      "metadata": {
        "id": "8a460c09-b22a-4bb5-becf-68810d0a0511",
        "outputId": "1126a393-9eb9-41c9-ab8a-ea352123413b"
      },
      "outputs": [
        {
          "name": "stdout",
          "output_type": "stream",
          "text": [
            "Test Acc: 78.3%\n"
          ]
        }
      ],
      "source": [
        "_,acc = model.evaluate(X_test, y_test,batch_size= batch_size, verbose=0)\n",
        "\n",
        "print('Test Acc: {:.3}%'.format(acc*100))"
      ]
    },
    {
      "cell_type": "markdown",
      "id": "da6dce87-19fd-42bb-b1a1-6b262ead7987",
      "metadata": {
        "id": "da6dce87-19fd-42bb-b1a1-6b262ead7987"
      },
      "source": [
        "# Predictions and Submission"
      ]
    },
    {
      "cell_type": "code",
      "execution_count": null,
      "id": "0763df49-04b3-4568-8e40-2733d36c9607",
      "metadata": {
        "id": "0763df49-04b3-4568-8e40-2733d36c9607",
        "outputId": "1c21902b-ff28-4fbf-e94c-14ee9847c8fb"
      },
      "outputs": [
        {
          "name": "stdout",
          "output_type": "stream",
          "text": [
            "\u001b[1m14/14\u001b[0m \u001b[32m━━━━━━━━━━━━━━━━━━━━\u001b[0m\u001b[37m\u001b[0m \u001b[1m0s\u001b[0m 3ms/step \n"
          ]
        }
      ],
      "source": [
        "preds = model.predict(test_final)\n",
        "preds = np.argmax(preds, axis=1)"
      ]
    },
    {
      "cell_type": "code",
      "execution_count": null,
      "id": "e8b02132-6ed9-4440-ae88-4182ca97a3a8",
      "metadata": {
        "id": "e8b02132-6ed9-4440-ae88-4182ca97a3a8",
        "outputId": "9a2f063e-a67f-402d-f939-68349c4e812c"
      },
      "outputs": [
        {
          "data": {
            "text/plain": [
              "array([0, 0, 0, 0, 1, 0, 1, 0, 1, 0, 0, 0, 1, 0, 1, 1, 0, 0, 0, 1, 0, 0,\n",
              "       1, 1, 1, 0, 1, 0, 0, 0, 0, 0, 1, 1, 1, 0, 0, 1, 0, 0, 0, 0, 0, 1,\n",
              "       1, 0, 0, 0, 1, 1, 0, 0, 1, 1, 0, 0, 0, 0, 0, 1, 0, 0, 0, 1, 1, 1,\n",
              "       1, 0, 0, 1, 1, 0, 1, 0, 1, 0, 0, 1, 0, 1, 1, 0, 0, 0, 0, 0, 1, 1,\n",
              "       1, 1, 0, 0, 1, 0, 0, 0, 1, 0, 1, 0, 1, 0, 0, 0, 1, 0, 0, 0, 0, 0,\n",
              "       0, 1, 1, 1, 1, 0, 0, 1, 0, 1, 1, 0, 1, 0, 0, 1, 0, 1, 0, 0, 0, 0,\n",
              "       0, 0, 0, 0, 0, 0, 1, 0, 0, 1, 0, 0, 0, 0, 0, 0, 0, 0, 1, 0, 0, 1,\n",
              "       0, 0, 1, 1, 0, 1, 1, 1, 1, 0, 0, 1, 0, 0, 1, 1, 0, 0, 0, 0, 0, 1,\n",
              "       1, 0, 1, 1, 0, 1, 1, 0, 1, 0, 1, 0, 0, 0, 0, 0, 0, 0, 0, 0, 1, 1,\n",
              "       0, 1, 1, 0, 1, 1, 0, 0, 1, 0, 1, 0, 0, 0, 0, 1, 0, 0, 1, 0, 1, 0,\n",
              "       1, 0, 1, 0, 1, 1, 0, 1, 0, 0, 0, 1, 0, 0, 1, 0, 0, 0, 1, 1, 1, 1,\n",
              "       1, 0, 0, 0, 1, 0, 1, 1, 1, 0, 1, 0, 0, 0, 0, 0, 1, 0, 0, 0, 1, 1,\n",
              "       0, 0, 0, 0, 0, 0, 0, 0, 1, 1, 0, 1, 0, 0, 0, 0, 1, 0, 1, 1, 1, 0,\n",
              "       0, 0, 0, 0, 0, 1, 0, 0, 0, 0, 1, 0, 0, 0, 0, 0, 0, 0, 1, 1, 1, 0,\n",
              "       0, 0, 0, 0, 0, 1, 1, 1, 1, 0, 0, 0, 0, 0, 0, 0, 1, 0, 1, 0, 0, 0,\n",
              "       1, 0, 0, 1, 0, 0, 0, 0, 0, 0, 0, 0, 0, 1, 0, 1, 0, 1, 0, 1, 1, 0,\n",
              "       0, 0, 1, 0, 1, 0, 0, 0, 0, 1, 1, 0, 1, 0, 0, 1, 1, 0, 0, 1, 0, 0,\n",
              "       1, 1, 0, 0, 0, 0, 0, 0, 1, 0, 0, 1, 0, 0, 0, 0, 0, 1, 0, 0, 0, 1,\n",
              "       0, 1, 0, 0, 1, 0, 1, 0, 0, 0, 0, 1, 1, 1, 1, 1, 1, 0, 1, 0, 0, 0])"
            ]
          },
          "execution_count": 123,
          "metadata": {},
          "output_type": "execute_result"
        }
      ],
      "source": [
        "preds"
      ]
    },
    {
      "cell_type": "code",
      "execution_count": null,
      "id": "b7ce874a-88d9-4966-af5e-faec7b6d9fe8",
      "metadata": {
        "id": "b7ce874a-88d9-4966-af5e-faec7b6d9fe8"
      },
      "outputs": [],
      "source": [
        "submission = pd.concat([ID, pd.Series(preds, name = 'Survived')], axis= 1)\n",
        "submission.to_csv('submission_titanic_MLP.csv',index=False, header= True)"
      ]
    },
    {
      "cell_type": "code",
      "execution_count": null,
      "id": "e969c034-1383-4aab-bc74-db09c1ff3645",
      "metadata": {
        "id": "e969c034-1383-4aab-bc74-db09c1ff3645"
      },
      "outputs": [],
      "source": []
    }
  ],
  "metadata": {
    "kernelspec": {
      "display_name": "Python 3 (ipykernel)",
      "language": "python",
      "name": "python3"
    },
    "language_info": {
      "codemirror_mode": {
        "name": "ipython",
        "version": 3
      },
      "file_extension": ".py",
      "mimetype": "text/x-python",
      "name": "python",
      "nbconvert_exporter": "python",
      "pygments_lexer": "ipython3",
      "version": "3.10.13"
    },
    "colab": {
      "provenance": [],
      "toc_visible": true
    }
  },
  "nbformat": 4,
  "nbformat_minor": 5
}