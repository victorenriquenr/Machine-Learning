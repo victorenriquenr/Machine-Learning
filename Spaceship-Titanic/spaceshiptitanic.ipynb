{
 "cells": [
  {
   "cell_type": "markdown",
   "metadata": {},
   "source": [
    "### Kaggle: Spaceship Titanic\n",
    "\n",
    " **Author: Víctor Núñez**\n",
    " \n",
    " February 11-2024\n"
   ]
  },
  {
   "cell_type": "code",
   "execution_count": 508,
   "metadata": {},
   "outputs": [],
   "source": [
    "import numpy as np\n",
    "import pandas as pd\n",
    "import matplotlib.pyplot as plt \n",
    "import seaborn as sns\n",
    "\n",
    "from sklearn.preprocessing import LabelEncoder \n",
    "from sklearn.model_selection import learning_curve \n",
    "from sklearn.model_selection import GridSearchCV \n",
    "from pycaret.classification import setup, compare_models "
   ]
  },
  {
   "cell_type": "markdown",
   "metadata": {},
   "source": [
    "## 1) **Data**"
   ]
  },
  {
   "cell_type": "code",
   "execution_count": 337,
   "metadata": {},
   "outputs": [],
   "source": [
    "train = pd.read_csv('train.csv')\n",
    "test  = pd.read_csv('test.csv')"
   ]
  },
  {
   "cell_type": "markdown",
   "metadata": {},
   "source": [
    "- Combine data to processing"
   ]
  },
  {
   "cell_type": "code",
   "execution_count": 344,
   "metadata": {},
   "outputs": [],
   "source": [
    "target = train['Transported']\n",
    "PassengerId = test['PassengerId']\n",
    "\n",
    "data_0 = pd.concat([train.drop(['Transported'],axis =1), test], axis = 0).reset_index(drop =  True)"
   ]
  },
  {
   "cell_type": "code",
   "execution_count": 115,
   "metadata": {},
   "outputs": [
    {
     "name": "stdout",
     "output_type": "stream",
     "text": [
      "Shape:(12970, 13)\n"
     ]
    }
   ],
   "source": [
    "print('Shape:{}'.format(data_0.shape))"
   ]
  },
  {
   "cell_type": "code",
   "execution_count": 132,
   "metadata": {},
   "outputs": [
    {
     "name": "stdout",
     "output_type": "stream",
     "text": [
      "Missing Values: \n",
      "----\n",
      "HomePlanet      288\n",
      "CryoSleep       310\n",
      "Cabin           299\n",
      "Destination     274\n",
      "Age             270\n",
      "VIP             296\n",
      "RoomService     263\n",
      "FoodCourt       289\n",
      "ShoppingMall    306\n",
      "Spa             284\n",
      "VRDeck          268\n",
      "numId             0\n",
      "dtype: int64\n"
     ]
    }
   ],
   "source": [
    "print('Missing Values: \\n----')\n",
    "print(data_0.isna().sum())"
   ]
  },
  {
   "cell_type": "markdown",
   "metadata": {},
   "source": [
    "## 2) **Processing**"
   ]
  },
  {
   "cell_type": "markdown",
   "metadata": {},
   "source": [
    "### **Categoricals**"
   ]
  },
  {
   "cell_type": "code",
   "execution_count": 345,
   "metadata": {},
   "outputs": [
    {
     "data": {
      "text/html": [
       "<div>\n",
       "<style scoped>\n",
       "    .dataframe tbody tr th:only-of-type {\n",
       "        vertical-align: middle;\n",
       "    }\n",
       "\n",
       "    .dataframe tbody tr th {\n",
       "        vertical-align: top;\n",
       "    }\n",
       "\n",
       "    .dataframe thead th {\n",
       "        text-align: right;\n",
       "    }\n",
       "</style>\n",
       "<table border=\"1\" class=\"dataframe\">\n",
       "  <thead>\n",
       "    <tr style=\"text-align: right;\">\n",
       "      <th></th>\n",
       "      <th>PassengerId</th>\n",
       "      <th>HomePlanet</th>\n",
       "      <th>CryoSleep</th>\n",
       "      <th>Cabin</th>\n",
       "      <th>Destination</th>\n",
       "      <th>VIP</th>\n",
       "      <th>Name</th>\n",
       "    </tr>\n",
       "  </thead>\n",
       "  <tbody>\n",
       "    <tr>\n",
       "      <th>0</th>\n",
       "      <td>0001_01</td>\n",
       "      <td>Europa</td>\n",
       "      <td>False</td>\n",
       "      <td>B/0/P</td>\n",
       "      <td>TRAPPIST-1e</td>\n",
       "      <td>False</td>\n",
       "      <td>Maham Ofracculy</td>\n",
       "    </tr>\n",
       "    <tr>\n",
       "      <th>1</th>\n",
       "      <td>0002_01</td>\n",
       "      <td>Earth</td>\n",
       "      <td>False</td>\n",
       "      <td>F/0/S</td>\n",
       "      <td>TRAPPIST-1e</td>\n",
       "      <td>False</td>\n",
       "      <td>Juanna Vines</td>\n",
       "    </tr>\n",
       "    <tr>\n",
       "      <th>2</th>\n",
       "      <td>0003_01</td>\n",
       "      <td>Europa</td>\n",
       "      <td>False</td>\n",
       "      <td>A/0/S</td>\n",
       "      <td>TRAPPIST-1e</td>\n",
       "      <td>True</td>\n",
       "      <td>Altark Susent</td>\n",
       "    </tr>\n",
       "    <tr>\n",
       "      <th>3</th>\n",
       "      <td>0003_02</td>\n",
       "      <td>Europa</td>\n",
       "      <td>False</td>\n",
       "      <td>A/0/S</td>\n",
       "      <td>TRAPPIST-1e</td>\n",
       "      <td>False</td>\n",
       "      <td>Solam Susent</td>\n",
       "    </tr>\n",
       "    <tr>\n",
       "      <th>4</th>\n",
       "      <td>0004_01</td>\n",
       "      <td>Earth</td>\n",
       "      <td>False</td>\n",
       "      <td>F/1/S</td>\n",
       "      <td>TRAPPIST-1e</td>\n",
       "      <td>False</td>\n",
       "      <td>Willy Santantines</td>\n",
       "    </tr>\n",
       "  </tbody>\n",
       "</table>\n",
       "</div>"
      ],
      "text/plain": [
       "  PassengerId HomePlanet CryoSleep  Cabin  Destination    VIP  \\\n",
       "0     0001_01     Europa     False  B/0/P  TRAPPIST-1e  False   \n",
       "1     0002_01      Earth     False  F/0/S  TRAPPIST-1e  False   \n",
       "2     0003_01     Europa     False  A/0/S  TRAPPIST-1e   True   \n",
       "3     0003_02     Europa     False  A/0/S  TRAPPIST-1e  False   \n",
       "4     0004_01      Earth     False  F/1/S  TRAPPIST-1e  False   \n",
       "\n",
       "                Name  \n",
       "0    Maham Ofracculy  \n",
       "1       Juanna Vines  \n",
       "2      Altark Susent  \n",
       "3       Solam Susent  \n",
       "4  Willy Santantines  "
      ]
     },
     "execution_count": 345,
     "metadata": {},
     "output_type": "execute_result"
    }
   ],
   "source": [
    "data_0.select_dtypes(object).head()"
   ]
  },
  {
   "cell_type": "code",
   "execution_count": 347,
   "metadata": {},
   "outputs": [],
   "source": [
    "data_0[['CryoSleep','VIP']] = data_0[['CryoSleep','VIP']].astype(bool)"
   ]
  },
  {
   "cell_type": "markdown",
   "metadata": {},
   "source": [
    "- PassengerId/Name"
   ]
  },
  {
   "cell_type": "code",
   "execution_count": 348,
   "metadata": {},
   "outputs": [],
   "source": [
    "data_0['GroupId'] =data_0['PassengerId'].apply(lambda id: id.split('_')[0]).astype(int)\n",
    "data_0['numId'] =data_0['PassengerId'].apply(lambda id: id.split('_')[1]).astype(int)\n",
    "\n",
    "data_0.drop(['PassengerId', 'Name'], axis = 1, inplace = True)\n"
   ]
  },
  {
   "cell_type": "code",
   "execution_count": 349,
   "metadata": {},
   "outputs": [
    {
     "name": "stdout",
     "output_type": "stream",
     "text": [
      "Unique NumId = 8\n",
      "Unique GroupId = 9280\n"
     ]
    }
   ],
   "source": [
    "print('Unique NumId = {}'.format(len(data_0['numId'].unique())))\n",
    "print('Unique GroupId = {}'.format(len(data_0['GroupId'].unique())))"
   ]
  },
  {
   "cell_type": "code",
   "execution_count": 350,
   "metadata": {},
   "outputs": [],
   "source": [
    "data_0.drop(['GroupId'], axis = 1, inplace = True)"
   ]
  },
  {
   "cell_type": "code",
   "execution_count": 351,
   "metadata": {},
   "outputs": [],
   "source": [
    "#Save\n",
    "data_1 =  data_0.copy()"
   ]
  },
  {
   "cell_type": "markdown",
   "metadata": {},
   "source": [
    "- HomePlanet"
   ]
  },
  {
   "cell_type": "code",
   "execution_count": 352,
   "metadata": {},
   "outputs": [
    {
     "data": {
      "text/plain": [
       "count     12682\n",
       "unique        3\n",
       "top       Earth\n",
       "freq       6865\n",
       "Name: HomePlanet, dtype: object"
      ]
     },
     "execution_count": 352,
     "metadata": {},
     "output_type": "execute_result"
    }
   ],
   "source": [
    "data_1['HomePlanet'].describe()"
   ]
  },
  {
   "cell_type": "markdown",
   "metadata": {},
   "source": [
    " ***Impute missing values using the column mode***"
   ]
  },
  {
   "cell_type": "code",
   "execution_count": 353,
   "metadata": {},
   "outputs": [],
   "source": [
    "data_1['HomePlanet'] = data_1['HomePlanet'].fillna('Earth')"
   ]
  },
  {
   "cell_type": "markdown",
   "metadata": {},
   "source": [
    "- CryoSleep"
   ]
  },
  {
   "cell_type": "code",
   "execution_count": 354,
   "metadata": {},
   "outputs": [
    {
     "data": {
      "text/plain": [
       "count     12970\n",
       "unique        2\n",
       "top       False\n",
       "freq       8079\n",
       "Name: CryoSleep, dtype: object"
      ]
     },
     "execution_count": 354,
     "metadata": {},
     "output_type": "execute_result"
    }
   ],
   "source": [
    "data_1['CryoSleep'].describe()"
   ]
  },
  {
   "cell_type": "markdown",
   "metadata": {},
   "source": [
    " ***Impute using the column mode***"
   ]
  },
  {
   "cell_type": "code",
   "execution_count": 355,
   "metadata": {},
   "outputs": [],
   "source": [
    "data_1['CryoSleep'] = data_1['CryoSleep'].fillna(False)"
   ]
  },
  {
   "cell_type": "markdown",
   "metadata": {},
   "source": [
    "- Cabin"
   ]
  },
  {
   "cell_type": "code",
   "execution_count": 356,
   "metadata": {},
   "outputs": [
    {
     "data": {
      "text/plain": [
       "count       12671\n",
       "unique       9825\n",
       "top       G/734/S\n",
       "freq            8\n",
       "Name: Cabin, dtype: object"
      ]
     },
     "execution_count": 356,
     "metadata": {},
     "output_type": "execute_result"
    }
   ],
   "source": [
    "data_1['Cabin'].describe()"
   ]
  },
  {
   "cell_type": "code",
   "execution_count": 357,
   "metadata": {
    "scrolled": true
   },
   "outputs": [],
   "source": [
    "data_1['Deck'] = data_1['Cabin'].apply(lambda cabin:cabin.split('/')[0] if isinstance(cabin, str) else np.nan)\n",
    "data_1['Num']  = data_1['Cabin'].apply(lambda cabin:cabin.split('/')[1] if isinstance(cabin, str) else np.nan)\n",
    "data_1['Side'] = data_1['Cabin'].apply(lambda cabin:cabin.split('/')[2] if isinstance(cabin, str) else np.nan)"
   ]
  },
  {
   "cell_type": "code",
   "execution_count": 358,
   "metadata": {},
   "outputs": [],
   "source": [
    "data_1.drop(['Cabin'], axis = 1,inplace =  True)"
   ]
  },
  {
   "cell_type": "code",
   "execution_count": 359,
   "metadata": {},
   "outputs": [
    {
     "data": {
      "text/plain": [
       "count     12671\n",
       "unique     1894\n",
       "top          82\n",
       "freq         34\n",
       "Name: Num, dtype: object"
      ]
     },
     "execution_count": 359,
     "metadata": {},
     "output_type": "execute_result"
    }
   ],
   "source": [
    "data_1['Num'].describe()"
   ]
  },
  {
   "cell_type": "markdown",
   "metadata": {},
   "source": [
    " ***Impute Deck and Side using the column mode***"
   ]
  },
  {
   "cell_type": "code",
   "execution_count": 360,
   "metadata": {},
   "outputs": [],
   "source": [
    "data_1['Deck'] = data_1['Deck'].fillna(data_1['Deck'].mode()[0])  \n",
    "data_1['Side'] = data_1['Side'].fillna(data_1['Side'].mode()[0]) "
   ]
  },
  {
   "cell_type": "markdown",
   "metadata": {},
   "source": [
    " ***Impute missing values in the 'Num' column with the value of the first neighbor below***"
   ]
  },
  {
   "cell_type": "code",
   "execution_count": 361,
   "metadata": {},
   "outputs": [],
   "source": [
    "data_1['Num'].fillna(method='bfill', inplace=True)"
   ]
  },
  {
   "cell_type": "markdown",
   "metadata": {},
   "source": [
    "- Destination and VIP"
   ]
  },
  {
   "cell_type": "code",
   "execution_count": 362,
   "metadata": {},
   "outputs": [
    {
     "data": {
      "text/plain": [
       "count           12696\n",
       "unique              3\n",
       "top       TRAPPIST-1e\n",
       "freq             8871\n",
       "Name: Destination, dtype: object"
      ]
     },
     "execution_count": 362,
     "metadata": {},
     "output_type": "execute_result"
    }
   ],
   "source": [
    "data_1['Destination'].describe()"
   ]
  },
  {
   "cell_type": "markdown",
   "metadata": {},
   "source": [
    "***impute using the column Mode***"
   ]
  },
  {
   "cell_type": "code",
   "execution_count": 363,
   "metadata": {},
   "outputs": [],
   "source": [
    "data_1['Destination'] = data_1['Destination'].fillna(data_1['Destination'].mode()[0])\n",
    "data_1['VIP'] = data_1['VIP'].fillna(data_1['VIP'].mode()[0])"
   ]
  },
  {
   "cell_type": "code",
   "execution_count": 364,
   "metadata": {},
   "outputs": [
    {
     "data": {
      "text/plain": [
       "HomePlanet     0\n",
       "Destination    0\n",
       "Deck           0\n",
       "Num            0\n",
       "Side           0\n",
       "dtype: int64"
      ]
     },
     "execution_count": 364,
     "metadata": {},
     "output_type": "execute_result"
    }
   ],
   "source": [
    "data_1.select_dtypes(object).isna().sum()"
   ]
  },
  {
   "cell_type": "code",
   "execution_count": 365,
   "metadata": {},
   "outputs": [],
   "source": [
    "#Save\n",
    "data_2 = data_1.copy()"
   ]
  },
  {
   "cell_type": "markdown",
   "metadata": {},
   "source": [
    "### **Numericals**"
   ]
  },
  {
   "cell_type": "code",
   "execution_count": 366,
   "metadata": {},
   "outputs": [
    {
     "data": {
      "text/html": [
       "<div>\n",
       "<style scoped>\n",
       "    .dataframe tbody tr th:only-of-type {\n",
       "        vertical-align: middle;\n",
       "    }\n",
       "\n",
       "    .dataframe tbody tr th {\n",
       "        vertical-align: top;\n",
       "    }\n",
       "\n",
       "    .dataframe thead th {\n",
       "        text-align: right;\n",
       "    }\n",
       "</style>\n",
       "<table border=\"1\" class=\"dataframe\">\n",
       "  <thead>\n",
       "    <tr style=\"text-align: right;\">\n",
       "      <th></th>\n",
       "      <th>Age</th>\n",
       "      <th>RoomService</th>\n",
       "      <th>FoodCourt</th>\n",
       "      <th>ShoppingMall</th>\n",
       "      <th>Spa</th>\n",
       "      <th>VRDeck</th>\n",
       "      <th>numId</th>\n",
       "    </tr>\n",
       "  </thead>\n",
       "  <tbody>\n",
       "    <tr>\n",
       "      <th>0</th>\n",
       "      <td>39.0</td>\n",
       "      <td>0.0</td>\n",
       "      <td>0.0</td>\n",
       "      <td>0.0</td>\n",
       "      <td>0.0</td>\n",
       "      <td>0.0</td>\n",
       "      <td>1</td>\n",
       "    </tr>\n",
       "    <tr>\n",
       "      <th>1</th>\n",
       "      <td>24.0</td>\n",
       "      <td>109.0</td>\n",
       "      <td>9.0</td>\n",
       "      <td>25.0</td>\n",
       "      <td>549.0</td>\n",
       "      <td>44.0</td>\n",
       "      <td>1</td>\n",
       "    </tr>\n",
       "    <tr>\n",
       "      <th>2</th>\n",
       "      <td>58.0</td>\n",
       "      <td>43.0</td>\n",
       "      <td>3576.0</td>\n",
       "      <td>0.0</td>\n",
       "      <td>6715.0</td>\n",
       "      <td>49.0</td>\n",
       "      <td>1</td>\n",
       "    </tr>\n",
       "    <tr>\n",
       "      <th>3</th>\n",
       "      <td>33.0</td>\n",
       "      <td>0.0</td>\n",
       "      <td>1283.0</td>\n",
       "      <td>371.0</td>\n",
       "      <td>3329.0</td>\n",
       "      <td>193.0</td>\n",
       "      <td>2</td>\n",
       "    </tr>\n",
       "    <tr>\n",
       "      <th>4</th>\n",
       "      <td>16.0</td>\n",
       "      <td>303.0</td>\n",
       "      <td>70.0</td>\n",
       "      <td>151.0</td>\n",
       "      <td>565.0</td>\n",
       "      <td>2.0</td>\n",
       "      <td>1</td>\n",
       "    </tr>\n",
       "  </tbody>\n",
       "</table>\n",
       "</div>"
      ],
      "text/plain": [
       "    Age  RoomService  FoodCourt  ShoppingMall     Spa  VRDeck  numId\n",
       "0  39.0          0.0        0.0           0.0     0.0     0.0      1\n",
       "1  24.0        109.0        9.0          25.0   549.0    44.0      1\n",
       "2  58.0         43.0     3576.0           0.0  6715.0    49.0      1\n",
       "3  33.0          0.0     1283.0         371.0  3329.0   193.0      2\n",
       "4  16.0        303.0       70.0         151.0   565.0     2.0      1"
      ]
     },
     "execution_count": 366,
     "metadata": {},
     "output_type": "execute_result"
    }
   ],
   "source": [
    "data_2.select_dtypes(np.number).head()"
   ]
  },
  {
   "cell_type": "markdown",
   "metadata": {},
   "source": [
    "- Age"
   ]
  },
  {
   "cell_type": "code",
   "execution_count": 367,
   "metadata": {},
   "outputs": [
    {
     "data": {
      "text/plain": [
       "<Axes: xlabel='Age', ylabel='Density'>"
      ]
     },
     "execution_count": 367,
     "metadata": {},
     "output_type": "execute_result"
    },
    {
     "data": {
      "image/png": "[encoded data removed]",
      "text/plain": [
       "<Figure size 400x400 with 1 Axes>"
      ]
     },
     "metadata": {},
     "output_type": "display_data"
    }
   ],
   "source": [
    "plt.figure(figsize = (4,4))\n",
    "sns.distplot(data_2.Age)"
   ]
  },
  {
   "cell_type": "code",
   "execution_count": 368,
   "metadata": {},
   "outputs": [
    {
     "data": {
      "text/plain": [
       "count    12700.000000\n",
       "mean        28.771969\n",
       "std         14.387261\n",
       "min          0.000000\n",
       "25%         19.000000\n",
       "50%         27.000000\n",
       "75%         38.000000\n",
       "max         79.000000\n",
       "Name: Age, dtype: float64"
      ]
     },
     "execution_count": 368,
     "metadata": {},
     "output_type": "execute_result"
    }
   ],
   "source": [
    "data_2['Age'].describe()"
   ]
  },
  {
   "cell_type": "markdown",
   "metadata": {},
   "source": [
    "***impute using mean value***"
   ]
  },
  {
   "cell_type": "code",
   "execution_count": 369,
   "metadata": {},
   "outputs": [],
   "source": [
    "data_2['Age'] = data_2['Age'].fillna(data_2['Age'].mean().round())"
   ]
  },
  {
   "cell_type": "markdown",
   "metadata": {},
   "source": [
    "We categorize Age\n",
    "\n",
    "- 0-10 years: Children\n",
    "- 11-20 years: Teenagers\n",
    "- 21-30 years: Young adults\n",
    "- 31-40 years: Adults\n",
    "- 41-60 years: Middle-aged adults\n",
    "- 61-80 years: Older adults"
   ]
  },
  {
   "cell_type": "code",
   "execution_count": 370,
   "metadata": {
    "scrolled": true
   },
   "outputs": [],
   "source": [
    "data_2['Age'] = data_2['Age'].replace(range(0,11),'Children')\n",
    "data_2['Age'] = data_2['Age'].replace(range(11,21),'Teenagers')\n",
    "data_2['Age'] = data_2['Age'].replace(range(21,31),'Young adults')\n",
    "data_2['Age'] = data_2['Age'].replace(range(31,41),'Adults')\n",
    "data_2['Age'] = data_2['Age'].replace(range(41,61),'Middle-aged adults')\n",
    "data_2['Age'] = data_2['Age'].replace(range(61,80),'Older adults')"
   ]
  },
  {
   "cell_type": "markdown",
   "metadata": {},
   "source": [
    "- RoomService - FoodCourt - ShoppingMall - Spa - VRDeck"
   ]
  },
  {
   "cell_type": "markdown",
   "metadata": {},
   "source": [
    "***impute using mean value***"
   ]
  },
  {
   "cell_type": "code",
   "execution_count": 371,
   "metadata": {},
   "outputs": [],
   "source": [
    "for col in ['RoomService',\n",
    "            'FoodCourt',\n",
    "            'ShoppingMall',\n",
    "            'Spa',\n",
    "            'VRDeck'\n",
    "           ]:\n",
    "    data_2[col] = data_2[col].fillna(data_2[col].mean().round())"
   ]
  },
  {
   "cell_type": "code",
   "execution_count": 372,
   "metadata": {},
   "outputs": [],
   "source": [
    "#Save\n",
    "data_3 =  data_2.copy()"
   ]
  },
  {
   "cell_type": "markdown",
   "metadata": {},
   "source": [
    "### **Encoding Categoricals**"
   ]
  },
  {
   "cell_type": "code",
   "execution_count": 374,
   "metadata": {},
   "outputs": [],
   "source": [
    "enc = LabelEncoder()\n",
    "for column in data_3.select_dtypes(object).columns:\n",
    "    data_3[column] = enc.fit_transform(data_3[column])\n",
    "    \n",
    "for column in data_3.select_dtypes(bool).columns:\n",
    "    data_3[column] = data_3[column].astype(int)\n",
    "    \n",
    "target = target.astype(int)"
   ]
  },
  {
   "cell_type": "code",
   "execution_count": 509,
   "metadata": {},
   "outputs": [],
   "source": [
    "data_4 = data_3.copy()"
   ]
  },
  {
   "cell_type": "markdown",
   "metadata": {},
   "source": [
    "### Final Split"
   ]
  },
  {
   "cell_type": "code",
   "execution_count": 510,
   "metadata": {},
   "outputs": [],
   "source": [
    "train_final = (data_4.loc[:train.index.max(),:]).copy()\n",
    "test_final  = (data_4.loc[train.index.max()+1:,:].reset_index(drop = True)).copy()"
   ]
  },
  {
   "cell_type": "markdown",
   "metadata": {},
   "source": [
    "## 3) **Model Selection**"
   ]
  },
  {
   "cell_type": "code",
   "execution_count": 511,
   "metadata": {},
   "outputs": [
    {
     "data": {
      "text/html": [
       "<style type=\"text/css\">\n",
       "#T_ec657_row8_col1 {\n",
       "  background-color: lightgreen;\n",
       "}\n",
       "</style>\n",
       "<table id=\"T_ec657\">\n",
       "  <thead>\n",
       "    <tr>\n",
       "      <th class=\"blank level0\" >&nbsp;</th>\n",
       "      <th id=\"T_ec657_level0_col0\" class=\"col_heading level0 col0\" >Description</th>\n",
       "      <th id=\"T_ec657_level0_col1\" class=\"col_heading level0 col1\" >Value</th>\n",
       "    </tr>\n",
       "  </thead>\n",
       "  <tbody>\n",
       "    <tr>\n",
       "      <th id=\"T_ec657_level0_row0\" class=\"row_heading level0 row0\" >0</th>\n",
       "      <td id=\"T_ec657_row0_col0\" class=\"data row0 col0\" >Session id</td>\n",
       "      <td id=\"T_ec657_row0_col1\" class=\"data row0 col1\" >6765</td>\n",
       "    </tr>\n",
       "    <tr>\n",
       "      <th id=\"T_ec657_level0_row1\" class=\"row_heading level0 row1\" >1</th>\n",
       "      <td id=\"T_ec657_row1_col0\" class=\"data row1 col0\" >Target</td>\n",
       "      <td id=\"T_ec657_row1_col1\" class=\"data row1 col1\" >Transported</td>\n",
       "    </tr>\n",
       "    <tr>\n",
       "      <th id=\"T_ec657_level0_row2\" class=\"row_heading level0 row2\" >2</th>\n",
       "      <td id=\"T_ec657_row2_col0\" class=\"data row2 col0\" >Target type</td>\n",
       "      <td id=\"T_ec657_row2_col1\" class=\"data row2 col1\" >Binary</td>\n",
       "    </tr>\n",
       "    <tr>\n",
       "      <th id=\"T_ec657_level0_row3\" class=\"row_heading level0 row3\" >3</th>\n",
       "      <td id=\"T_ec657_row3_col0\" class=\"data row3 col0\" >Original data shape</td>\n",
       "      <td id=\"T_ec657_row3_col1\" class=\"data row3 col1\" >(8693, 15)</td>\n",
       "    </tr>\n",
       "    <tr>\n",
       "      <th id=\"T_ec657_level0_row4\" class=\"row_heading level0 row4\" >4</th>\n",
       "      <td id=\"T_ec657_row4_col0\" class=\"data row4 col0\" >Transformed data shape</td>\n",
       "      <td id=\"T_ec657_row4_col1\" class=\"data row4 col1\" >(8693, 15)</td>\n",
       "    </tr>\n",
       "    <tr>\n",
       "      <th id=\"T_ec657_level0_row5\" class=\"row_heading level0 row5\" >5</th>\n",
       "      <td id=\"T_ec657_row5_col0\" class=\"data row5 col0\" >Transformed train set shape</td>\n",
       "      <td id=\"T_ec657_row5_col1\" class=\"data row5 col1\" >(6085, 15)</td>\n",
       "    </tr>\n",
       "    <tr>\n",
       "      <th id=\"T_ec657_level0_row6\" class=\"row_heading level0 row6\" >6</th>\n",
       "      <td id=\"T_ec657_row6_col0\" class=\"data row6 col0\" >Transformed test set shape</td>\n",
       "      <td id=\"T_ec657_row6_col1\" class=\"data row6 col1\" >(2608, 15)</td>\n",
       "    </tr>\n",
       "    <tr>\n",
       "      <th id=\"T_ec657_level0_row7\" class=\"row_heading level0 row7\" >7</th>\n",
       "      <td id=\"T_ec657_row7_col0\" class=\"data row7 col0\" >Numeric features</td>\n",
       "      <td id=\"T_ec657_row7_col1\" class=\"data row7 col1\" >14</td>\n",
       "    </tr>\n",
       "    <tr>\n",
       "      <th id=\"T_ec657_level0_row8\" class=\"row_heading level0 row8\" >8</th>\n",
       "      <td id=\"T_ec657_row8_col0\" class=\"data row8 col0\" >Preprocess</td>\n",
       "      <td id=\"T_ec657_row8_col1\" class=\"data row8 col1\" >True</td>\n",
       "    </tr>\n",
       "    <tr>\n",
       "      <th id=\"T_ec657_level0_row9\" class=\"row_heading level0 row9\" >9</th>\n",
       "      <td id=\"T_ec657_row9_col0\" class=\"data row9 col0\" >Imputation type</td>\n",
       "      <td id=\"T_ec657_row9_col1\" class=\"data row9 col1\" >simple</td>\n",
       "    </tr>\n",
       "    <tr>\n",
       "      <th id=\"T_ec657_level0_row10\" class=\"row_heading level0 row10\" >10</th>\n",
       "      <td id=\"T_ec657_row10_col0\" class=\"data row10 col0\" >Numeric imputation</td>\n",
       "      <td id=\"T_ec657_row10_col1\" class=\"data row10 col1\" >mean</td>\n",
       "    </tr>\n",
       "    <tr>\n",
       "      <th id=\"T_ec657_level0_row11\" class=\"row_heading level0 row11\" >11</th>\n",
       "      <td id=\"T_ec657_row11_col0\" class=\"data row11 col0\" >Categorical imputation</td>\n",
       "      <td id=\"T_ec657_row11_col1\" class=\"data row11 col1\" >mode</td>\n",
       "    </tr>\n",
       "    <tr>\n",
       "      <th id=\"T_ec657_level0_row12\" class=\"row_heading level0 row12\" >12</th>\n",
       "      <td id=\"T_ec657_row12_col0\" class=\"data row12 col0\" >Fold Generator</td>\n",
       "      <td id=\"T_ec657_row12_col1\" class=\"data row12 col1\" >StratifiedKFold</td>\n",
       "    </tr>\n",
       "    <tr>\n",
       "      <th id=\"T_ec657_level0_row13\" class=\"row_heading level0 row13\" >13</th>\n",
       "      <td id=\"T_ec657_row13_col0\" class=\"data row13 col0\" >Fold Number</td>\n",
       "      <td id=\"T_ec657_row13_col1\" class=\"data row13 col1\" >10</td>\n",
       "    </tr>\n",
       "    <tr>\n",
       "      <th id=\"T_ec657_level0_row14\" class=\"row_heading level0 row14\" >14</th>\n",
       "      <td id=\"T_ec657_row14_col0\" class=\"data row14 col0\" >CPU Jobs</td>\n",
       "      <td id=\"T_ec657_row14_col1\" class=\"data row14 col1\" >-1</td>\n",
       "    </tr>\n",
       "    <tr>\n",
       "      <th id=\"T_ec657_level0_row15\" class=\"row_heading level0 row15\" >15</th>\n",
       "      <td id=\"T_ec657_row15_col0\" class=\"data row15 col0\" >Use GPU</td>\n",
       "      <td id=\"T_ec657_row15_col1\" class=\"data row15 col1\" >False</td>\n",
       "    </tr>\n",
       "    <tr>\n",
       "      <th id=\"T_ec657_level0_row16\" class=\"row_heading level0 row16\" >16</th>\n",
       "      <td id=\"T_ec657_row16_col0\" class=\"data row16 col0\" >Log Experiment</td>\n",
       "      <td id=\"T_ec657_row16_col1\" class=\"data row16 col1\" >False</td>\n",
       "    </tr>\n",
       "    <tr>\n",
       "      <th id=\"T_ec657_level0_row17\" class=\"row_heading level0 row17\" >17</th>\n",
       "      <td id=\"T_ec657_row17_col0\" class=\"data row17 col0\" >Experiment Name</td>\n",
       "      <td id=\"T_ec657_row17_col1\" class=\"data row17 col1\" >clf-default-name</td>\n",
       "    </tr>\n",
       "    <tr>\n",
       "      <th id=\"T_ec657_level0_row18\" class=\"row_heading level0 row18\" >18</th>\n",
       "      <td id=\"T_ec657_row18_col0\" class=\"data row18 col0\" >USI</td>\n",
       "      <td id=\"T_ec657_row18_col1\" class=\"data row18 col1\" >62b4</td>\n",
       "    </tr>\n",
       "  </tbody>\n",
       "</table>\n"
      ],
      "text/plain": [
       "<pandas.io.formats.style.Styler at 0x7f8077c0a440>"
      ]
     },
     "metadata": {},
     "output_type": "display_data"
    },
    {
     "data": {
      "text/html": [],
      "text/plain": [
       "<IPython.core.display.HTML object>"
      ]
     },
     "metadata": {},
     "output_type": "display_data"
    },
    {
     "data": {
      "text/html": [
       "<style type=\"text/css\">\n",
       "#T_f2b30 th {\n",
       "  text-align: left;\n",
       "}\n",
       "#T_f2b30_row0_col0, #T_f2b30_row0_col3, #T_f2b30_row0_col4, #T_f2b30_row0_col5, #T_f2b30_row1_col0, #T_f2b30_row1_col1, #T_f2b30_row1_col2, #T_f2b30_row1_col3, #T_f2b30_row1_col4, #T_f2b30_row1_col6, #T_f2b30_row1_col7, #T_f2b30_row2_col0, #T_f2b30_row2_col1, #T_f2b30_row2_col2, #T_f2b30_row2_col3, #T_f2b30_row2_col4, #T_f2b30_row2_col5, #T_f2b30_row2_col6, #T_f2b30_row2_col7, #T_f2b30_row3_col0, #T_f2b30_row3_col1, #T_f2b30_row3_col2, #T_f2b30_row3_col3, #T_f2b30_row3_col4, #T_f2b30_row3_col5, #T_f2b30_row3_col6, #T_f2b30_row3_col7, #T_f2b30_row4_col0, #T_f2b30_row4_col1, #T_f2b30_row4_col2, #T_f2b30_row4_col3, #T_f2b30_row4_col5, #T_f2b30_row4_col6, #T_f2b30_row4_col7, #T_f2b30_row5_col0, #T_f2b30_row5_col1, #T_f2b30_row5_col2, #T_f2b30_row5_col3, #T_f2b30_row5_col4, #T_f2b30_row5_col5, #T_f2b30_row5_col6, #T_f2b30_row5_col7, #T_f2b30_row6_col0, #T_f2b30_row6_col1, #T_f2b30_row6_col2, #T_f2b30_row6_col3, #T_f2b30_row6_col4, #T_f2b30_row6_col5, #T_f2b30_row6_col6, #T_f2b30_row6_col7, #T_f2b30_row7_col0, #T_f2b30_row7_col1, #T_f2b30_row7_col2, #T_f2b30_row7_col3, #T_f2b30_row7_col4, #T_f2b30_row7_col5, #T_f2b30_row7_col6, #T_f2b30_row7_col7, #T_f2b30_row8_col0, #T_f2b30_row8_col1, #T_f2b30_row8_col2, #T_f2b30_row8_col3, #T_f2b30_row8_col4, #T_f2b30_row8_col5, #T_f2b30_row8_col6, #T_f2b30_row8_col7, #T_f2b30_row9_col0, #T_f2b30_row9_col1, #T_f2b30_row9_col2, #T_f2b30_row9_col3, #T_f2b30_row9_col4, #T_f2b30_row9_col5, #T_f2b30_row9_col6, #T_f2b30_row9_col7, #T_f2b30_row10_col0, #T_f2b30_row10_col1, #T_f2b30_row10_col2, #T_f2b30_row10_col3, #T_f2b30_row10_col4, #T_f2b30_row10_col5, #T_f2b30_row10_col6, #T_f2b30_row10_col7, #T_f2b30_row11_col0, #T_f2b30_row11_col1, #T_f2b30_row11_col2, #T_f2b30_row11_col3, #T_f2b30_row11_col4, #T_f2b30_row11_col5, #T_f2b30_row11_col6, #T_f2b30_row11_col7, #T_f2b30_row12_col0, #T_f2b30_row12_col1, #T_f2b30_row12_col2, #T_f2b30_row12_col3, #T_f2b30_row12_col4, #T_f2b30_row12_col5, #T_f2b30_row12_col6, #T_f2b30_row12_col7, #T_f2b30_row13_col0, #T_f2b30_row13_col1, #T_f2b30_row13_col2, #T_f2b30_row13_col4, #T_f2b30_row13_col5, #T_f2b30_row13_col6, #T_f2b30_row13_col7 {\n",
       "  text-align: left;\n",
       "}\n",
       "#T_f2b30_row0_col1, #T_f2b30_row0_col2, #T_f2b30_row0_col6, #T_f2b30_row0_col7, #T_f2b30_row1_col5, #T_f2b30_row4_col4, #T_f2b30_row13_col3 {\n",
       "  text-align: left;\n",
       "  background-color: yellow;\n",
       "}\n",
       "#T_f2b30_row0_col8, #T_f2b30_row1_col8, #T_f2b30_row2_col8, #T_f2b30_row3_col8, #T_f2b30_row4_col8, #T_f2b30_row5_col8, #T_f2b30_row7_col8, #T_f2b30_row8_col8, #T_f2b30_row9_col8, #T_f2b30_row10_col8, #T_f2b30_row11_col8, #T_f2b30_row12_col8, #T_f2b30_row13_col8 {\n",
       "  text-align: left;\n",
       "  background-color: lightgrey;\n",
       "}\n",
       "#T_f2b30_row6_col8 {\n",
       "  text-align: left;\n",
       "  background-color: yellow;\n",
       "  background-color: lightgrey;\n",
       "}\n",
       "</style>\n",
       "<table id=\"T_f2b30\">\n",
       "  <thead>\n",
       "    <tr>\n",
       "      <th class=\"blank level0\" >&nbsp;</th>\n",
       "      <th id=\"T_f2b30_level0_col0\" class=\"col_heading level0 col0\" >Model</th>\n",
       "      <th id=\"T_f2b30_level0_col1\" class=\"col_heading level0 col1\" >Accuracy</th>\n",
       "      <th id=\"T_f2b30_level0_col2\" class=\"col_heading level0 col2\" >AUC</th>\n",
       "      <th id=\"T_f2b30_level0_col3\" class=\"col_heading level0 col3\" >Recall</th>\n",
       "      <th id=\"T_f2b30_level0_col4\" class=\"col_heading level0 col4\" >Prec.</th>\n",
       "      <th id=\"T_f2b30_level0_col5\" class=\"col_heading level0 col5\" >F1</th>\n",
       "      <th id=\"T_f2b30_level0_col6\" class=\"col_heading level0 col6\" >Kappa</th>\n",
       "      <th id=\"T_f2b30_level0_col7\" class=\"col_heading level0 col7\" >MCC</th>\n",
       "      <th id=\"T_f2b30_level0_col8\" class=\"col_heading level0 col8\" >TT (Sec)</th>\n",
       "    </tr>\n",
       "  </thead>\n",
       "  <tbody>\n",
       "    <tr>\n",
       "      <th id=\"T_f2b30_level0_row0\" class=\"row_heading level0 row0\" >lightgbm</th>\n",
       "      <td id=\"T_f2b30_row0_col0\" class=\"data row0 col0\" >Light Gradient Boosting Machine</td>\n",
       "      <td id=\"T_f2b30_row0_col1\" class=\"data row0 col1\" >0.7982</td>\n",
       "      <td id=\"T_f2b30_row0_col2\" class=\"data row0 col2\" >0.8938</td>\n",
       "      <td id=\"T_f2b30_row0_col3\" class=\"data row0 col3\" >0.8042</td>\n",
       "      <td id=\"T_f2b30_row0_col4\" class=\"data row0 col4\" >0.7971</td>\n",
       "      <td id=\"T_f2b30_row0_col5\" class=\"data row0 col5\" >0.8005</td>\n",
       "      <td id=\"T_f2b30_row0_col6\" class=\"data row0 col6\" >0.5963</td>\n",
       "      <td id=\"T_f2b30_row0_col7\" class=\"data row0 col7\" >0.5966</td>\n",
       "      <td id=\"T_f2b30_row0_col8\" class=\"data row0 col8\" >12.2500</td>\n",
       "    </tr>\n",
       "    <tr>\n",
       "      <th id=\"T_f2b30_level0_row1\" class=\"row_heading level0 row1\" >gbc</th>\n",
       "      <td id=\"T_f2b30_row1_col0\" class=\"data row1 col0\" >Gradient Boosting Classifier</td>\n",
       "      <td id=\"T_f2b30_row1_col1\" class=\"data row1 col1\" >0.7975</td>\n",
       "      <td id=\"T_f2b30_row1_col2\" class=\"data row1 col2\" >0.8878</td>\n",
       "      <td id=\"T_f2b30_row1_col3\" class=\"data row1 col3\" >0.8255</td>\n",
       "      <td id=\"T_f2b30_row1_col4\" class=\"data row1 col4\" >0.7842</td>\n",
       "      <td id=\"T_f2b30_row1_col5\" class=\"data row1 col5\" >0.8042</td>\n",
       "      <td id=\"T_f2b30_row1_col6\" class=\"data row1 col6\" >0.5949</td>\n",
       "      <td id=\"T_f2b30_row1_col7\" class=\"data row1 col7\" >0.5960</td>\n",
       "      <td id=\"T_f2b30_row1_col8\" class=\"data row1 col8\" >0.7260</td>\n",
       "    </tr>\n",
       "    <tr>\n",
       "      <th id=\"T_f2b30_level0_row2\" class=\"row_heading level0 row2\" >ada</th>\n",
       "      <td id=\"T_f2b30_row2_col0\" class=\"data row2 col0\" >Ada Boost Classifier</td>\n",
       "      <td id=\"T_f2b30_row2_col1\" class=\"data row2 col1\" >0.7921</td>\n",
       "      <td id=\"T_f2b30_row2_col2\" class=\"data row2 col2\" >0.8771</td>\n",
       "      <td id=\"T_f2b30_row2_col3\" class=\"data row2 col3\" >0.8248</td>\n",
       "      <td id=\"T_f2b30_row2_col4\" class=\"data row2 col4\" >0.7767</td>\n",
       "      <td id=\"T_f2b30_row2_col5\" class=\"data row2 col5\" >0.7999</td>\n",
       "      <td id=\"T_f2b30_row2_col6\" class=\"data row2 col6\" >0.5840</td>\n",
       "      <td id=\"T_f2b30_row2_col7\" class=\"data row2 col7\" >0.5854</td>\n",
       "      <td id=\"T_f2b30_row2_col8\" class=\"data row2 col8\" >0.3820</td>\n",
       "    </tr>\n",
       "    <tr>\n",
       "      <th id=\"T_f2b30_level0_row3\" class=\"row_heading level0 row3\" >lr</th>\n",
       "      <td id=\"T_f2b30_row3_col0\" class=\"data row3 col0\" >Logistic Regression</td>\n",
       "      <td id=\"T_f2b30_row3_col1\" class=\"data row3 col1\" >0.7885</td>\n",
       "      <td id=\"T_f2b30_row3_col2\" class=\"data row3 col2\" >0.8704</td>\n",
       "      <td id=\"T_f2b30_row3_col3\" class=\"data row3 col3\" >0.8114</td>\n",
       "      <td id=\"T_f2b30_row3_col4\" class=\"data row3 col4\" >0.7786</td>\n",
       "      <td id=\"T_f2b30_row3_col5\" class=\"data row3 col5\" >0.7945</td>\n",
       "      <td id=\"T_f2b30_row3_col6\" class=\"data row3 col6\" >0.5768</td>\n",
       "      <td id=\"T_f2b30_row3_col7\" class=\"data row3 col7\" >0.5776</td>\n",
       "      <td id=\"T_f2b30_row3_col8\" class=\"data row3 col8\" >1.1690</td>\n",
       "    </tr>\n",
       "    <tr>\n",
       "      <th id=\"T_f2b30_level0_row4\" class=\"row_heading level0 row4\" >rf</th>\n",
       "      <td id=\"T_f2b30_row4_col0\" class=\"data row4 col0\" >Random Forest Classifier</td>\n",
       "      <td id=\"T_f2b30_row4_col1\" class=\"data row4 col1\" >0.7883</td>\n",
       "      <td id=\"T_f2b30_row4_col2\" class=\"data row4 col2\" >0.8715</td>\n",
       "      <td id=\"T_f2b30_row4_col3\" class=\"data row4 col3\" >0.7550</td>\n",
       "      <td id=\"T_f2b30_row4_col4\" class=\"data row4 col4\" >0.8118</td>\n",
       "      <td id=\"T_f2b30_row4_col5\" class=\"data row4 col5\" >0.7822</td>\n",
       "      <td id=\"T_f2b30_row4_col6\" class=\"data row4 col6\" >0.5769</td>\n",
       "      <td id=\"T_f2b30_row4_col7\" class=\"data row4 col7\" >0.5785</td>\n",
       "      <td id=\"T_f2b30_row4_col8\" class=\"data row4 col8\" >0.7820</td>\n",
       "    </tr>\n",
       "    <tr>\n",
       "      <th id=\"T_f2b30_level0_row5\" class=\"row_heading level0 row5\" >et</th>\n",
       "      <td id=\"T_f2b30_row5_col0\" class=\"data row5 col0\" >Extra Trees Classifier</td>\n",
       "      <td id=\"T_f2b30_row5_col1\" class=\"data row5 col1\" >0.7801</td>\n",
       "      <td id=\"T_f2b30_row5_col2\" class=\"data row5 col2\" >0.8451</td>\n",
       "      <td id=\"T_f2b30_row5_col3\" class=\"data row5 col3\" >0.7429</td>\n",
       "      <td id=\"T_f2b30_row5_col4\" class=\"data row5 col4\" >0.8057</td>\n",
       "      <td id=\"T_f2b30_row5_col5\" class=\"data row5 col5\" >0.7728</td>\n",
       "      <td id=\"T_f2b30_row5_col6\" class=\"data row5 col6\" >0.5605</td>\n",
       "      <td id=\"T_f2b30_row5_col7\" class=\"data row5 col7\" >0.5624</td>\n",
       "      <td id=\"T_f2b30_row5_col8\" class=\"data row5 col8\" >0.8990</td>\n",
       "    </tr>\n",
       "    <tr>\n",
       "      <th id=\"T_f2b30_level0_row6\" class=\"row_heading level0 row6\" >ridge</th>\n",
       "      <td id=\"T_f2b30_row6_col0\" class=\"data row6 col0\" >Ridge Classifier</td>\n",
       "      <td id=\"T_f2b30_row6_col1\" class=\"data row6 col1\" >0.7592</td>\n",
       "      <td id=\"T_f2b30_row6_col2\" class=\"data row6 col2\" >0.0000</td>\n",
       "      <td id=\"T_f2b30_row6_col3\" class=\"data row6 col3\" >0.7175</td>\n",
       "      <td id=\"T_f2b30_row6_col4\" class=\"data row6 col4\" >0.7860</td>\n",
       "      <td id=\"T_f2b30_row6_col5\" class=\"data row6 col5\" >0.7500</td>\n",
       "      <td id=\"T_f2b30_row6_col6\" class=\"data row6 col6\" >0.5188</td>\n",
       "      <td id=\"T_f2b30_row6_col7\" class=\"data row6 col7\" >0.5210</td>\n",
       "      <td id=\"T_f2b30_row6_col8\" class=\"data row6 col8\" >0.0800</td>\n",
       "    </tr>\n",
       "    <tr>\n",
       "      <th id=\"T_f2b30_level0_row7\" class=\"row_heading level0 row7\" >lda</th>\n",
       "      <td id=\"T_f2b30_row7_col0\" class=\"data row7 col0\" >Linear Discriminant Analysis</td>\n",
       "      <td id=\"T_f2b30_row7_col1\" class=\"data row7 col1\" >0.7592</td>\n",
       "      <td id=\"T_f2b30_row7_col2\" class=\"data row7 col2\" >0.8471</td>\n",
       "      <td id=\"T_f2b30_row7_col3\" class=\"data row7 col3\" >0.7175</td>\n",
       "      <td id=\"T_f2b30_row7_col4\" class=\"data row7 col4\" >0.7860</td>\n",
       "      <td id=\"T_f2b30_row7_col5\" class=\"data row7 col5\" >0.7500</td>\n",
       "      <td id=\"T_f2b30_row7_col6\" class=\"data row7 col6\" >0.5188</td>\n",
       "      <td id=\"T_f2b30_row7_col7\" class=\"data row7 col7\" >0.5210</td>\n",
       "      <td id=\"T_f2b30_row7_col8\" class=\"data row7 col8\" >0.0840</td>\n",
       "    </tr>\n",
       "    <tr>\n",
       "      <th id=\"T_f2b30_level0_row8\" class=\"row_heading level0 row8\" >knn</th>\n",
       "      <td id=\"T_f2b30_row8_col0\" class=\"data row8 col0\" >K Neighbors Classifier</td>\n",
       "      <td id=\"T_f2b30_row8_col1\" class=\"data row8 col1\" >0.7555</td>\n",
       "      <td id=\"T_f2b30_row8_col2\" class=\"data row8 col2\" >0.8169</td>\n",
       "      <td id=\"T_f2b30_row8_col3\" class=\"data row8 col3\" >0.7866</td>\n",
       "      <td id=\"T_f2b30_row8_col4\" class=\"data row8 col4\" >0.7430</td>\n",
       "      <td id=\"T_f2b30_row8_col5\" class=\"data row8 col5\" >0.7641</td>\n",
       "      <td id=\"T_f2b30_row8_col6\" class=\"data row8 col6\" >0.5107</td>\n",
       "      <td id=\"T_f2b30_row8_col7\" class=\"data row8 col7\" >0.5117</td>\n",
       "      <td id=\"T_f2b30_row8_col8\" class=\"data row8 col8\" >0.1530</td>\n",
       "    </tr>\n",
       "    <tr>\n",
       "      <th id=\"T_f2b30_level0_row9\" class=\"row_heading level0 row9\" >dt</th>\n",
       "      <td id=\"T_f2b30_row9_col0\" class=\"data row9 col0\" >Decision Tree Classifier</td>\n",
       "      <td id=\"T_f2b30_row9_col1\" class=\"data row9 col1\" >0.7329</td>\n",
       "      <td id=\"T_f2b30_row9_col2\" class=\"data row9 col2\" >0.7329</td>\n",
       "      <td id=\"T_f2b30_row9_col3\" class=\"data row9 col3\" >0.7360</td>\n",
       "      <td id=\"T_f2b30_row9_col4\" class=\"data row9 col4\" >0.7342</td>\n",
       "      <td id=\"T_f2b30_row9_col5\" class=\"data row9 col5\" >0.7350</td>\n",
       "      <td id=\"T_f2b30_row9_col6\" class=\"data row9 col6\" >0.4659</td>\n",
       "      <td id=\"T_f2b30_row9_col7\" class=\"data row9 col7\" >0.4660</td>\n",
       "      <td id=\"T_f2b30_row9_col8\" class=\"data row9 col8\" >0.1070</td>\n",
       "    </tr>\n",
       "    <tr>\n",
       "      <th id=\"T_f2b30_level0_row10\" class=\"row_heading level0 row10\" >qda</th>\n",
       "      <td id=\"T_f2b30_row10_col0\" class=\"data row10 col0\" >Quadratic Discriminant Analysis</td>\n",
       "      <td id=\"T_f2b30_row10_col1\" class=\"data row10 col1\" >0.7168</td>\n",
       "      <td id=\"T_f2b30_row10_col2\" class=\"data row10 col2\" >0.8625</td>\n",
       "      <td id=\"T_f2b30_row10_col3\" class=\"data row10 col3\" >0.9298</td>\n",
       "      <td id=\"T_f2b30_row10_col4\" class=\"data row10 col4\" >0.6541</td>\n",
       "      <td id=\"T_f2b30_row10_col5\" class=\"data row10 col5\" >0.7679</td>\n",
       "      <td id=\"T_f2b30_row10_col6\" class=\"data row10 col6\" >0.4319</td>\n",
       "      <td id=\"T_f2b30_row10_col7\" class=\"data row10 col7\" >0.4775</td>\n",
       "      <td id=\"T_f2b30_row10_col8\" class=\"data row10 col8\" >0.1040</td>\n",
       "    </tr>\n",
       "    <tr>\n",
       "      <th id=\"T_f2b30_level0_row11\" class=\"row_heading level0 row11\" >nb</th>\n",
       "      <td id=\"T_f2b30_row11_col0\" class=\"data row11 col0\" >Naive Bayes</td>\n",
       "      <td id=\"T_f2b30_row11_col1\" class=\"data row11 col1\" >0.7106</td>\n",
       "      <td id=\"T_f2b30_row11_col2\" class=\"data row11 col2\" >0.8548</td>\n",
       "      <td id=\"T_f2b30_row11_col3\" class=\"data row11 col3\" >0.9282</td>\n",
       "      <td id=\"T_f2b30_row11_col4\" class=\"data row11 col4\" >0.6488</td>\n",
       "      <td id=\"T_f2b30_row11_col5\" class=\"data row11 col5\" >0.7637</td>\n",
       "      <td id=\"T_f2b30_row11_col6\" class=\"data row11 col6\" >0.4193</td>\n",
       "      <td id=\"T_f2b30_row11_col7\" class=\"data row11 col7\" >0.4659</td>\n",
       "      <td id=\"T_f2b30_row11_col8\" class=\"data row11 col8\" >0.1050</td>\n",
       "    </tr>\n",
       "    <tr>\n",
       "      <th id=\"T_f2b30_level0_row12\" class=\"row_heading level0 row12\" >svm</th>\n",
       "      <td id=\"T_f2b30_row12_col0\" class=\"data row12 col0\" >SVM - Linear Kernel</td>\n",
       "      <td id=\"T_f2b30_row12_col1\" class=\"data row12 col1\" >0.7002</td>\n",
       "      <td id=\"T_f2b30_row12_col2\" class=\"data row12 col2\" >0.0000</td>\n",
       "      <td id=\"T_f2b30_row12_col3\" class=\"data row12 col3\" >0.7450</td>\n",
       "      <td id=\"T_f2b30_row12_col4\" class=\"data row12 col4\" >0.6859</td>\n",
       "      <td id=\"T_f2b30_row12_col5\" class=\"data row12 col5\" >0.6876</td>\n",
       "      <td id=\"T_f2b30_row12_col6\" class=\"data row12 col6\" >0.4002</td>\n",
       "      <td id=\"T_f2b30_row12_col7\" class=\"data row12 col7\" >0.4247</td>\n",
       "      <td id=\"T_f2b30_row12_col8\" class=\"data row12 col8\" >0.1060</td>\n",
       "    </tr>\n",
       "    <tr>\n",
       "      <th id=\"T_f2b30_level0_row13\" class=\"row_heading level0 row13\" >dummy</th>\n",
       "      <td id=\"T_f2b30_row13_col0\" class=\"data row13 col0\" >Dummy Classifier</td>\n",
       "      <td id=\"T_f2b30_row13_col1\" class=\"data row13 col1\" >0.5037</td>\n",
       "      <td id=\"T_f2b30_row13_col2\" class=\"data row13 col2\" >0.5000</td>\n",
       "      <td id=\"T_f2b30_row13_col3\" class=\"data row13 col3\" >1.0000</td>\n",
       "      <td id=\"T_f2b30_row13_col4\" class=\"data row13 col4\" >0.5037</td>\n",
       "      <td id=\"T_f2b30_row13_col5\" class=\"data row13 col5\" >0.6699</td>\n",
       "      <td id=\"T_f2b30_row13_col6\" class=\"data row13 col6\" >0.0000</td>\n",
       "      <td id=\"T_f2b30_row13_col7\" class=\"data row13 col7\" >0.0000</td>\n",
       "      <td id=\"T_f2b30_row13_col8\" class=\"data row13 col8\" >0.0920</td>\n",
       "    </tr>\n",
       "  </tbody>\n",
       "</table>\n"
      ],
      "text/plain": [
       "<pandas.io.formats.style.Styler at 0x7f8077e52b00>"
      ]
     },
     "metadata": {},
     "output_type": "display_data"
    },
    {
     "data": {
      "text/html": [],
      "text/plain": [
       "<IPython.core.display.HTML object>"
      ]
     },
     "metadata": {},
     "output_type": "display_data"
    },
    {
     "data": {
      "text/html": [
       "<style>#sk-container-id-7 {color: black;}#sk-container-id-7 pre{padding: 0;}#sk-container-id-7 div.sk-toggleable {background-color: white;}#sk-container-id-7 label.sk-toggleable__label {cursor: pointer;display: block;width: 100%;margin-bottom: 0;padding: 0.3em;box-sizing: border-box;text-align: center;}#sk-container-id-7 label.sk-toggleable__label-arrow:before {content: \"▸\";float: left;margin-right: 0.25em;color: #696969;}#sk-container-id-7 label.sk-toggleable__label-arrow:hover:before {color: black;}#sk-container-id-7 div.sk-estimator:hover label.sk-toggleable__label-arrow:before {color: black;}#sk-container-id-7 div.sk-toggleable__content {max-height: 0;max-width: 0;overflow: hidden;text-align: left;background-color: #f0f8ff;}#sk-container-id-7 div.sk-toggleable__content pre {margin: 0.2em;color: black;border-radius: 0.25em;background-color: #f0f8ff;}#sk-container-id-7 input.sk-toggleable__control:checked~div.sk-toggleable__content {max-height: 200px;max-width: 100%;overflow: auto;}#sk-container-id-7 input.sk-toggleable__control:checked~label.sk-toggleable__label-arrow:before {content: \"▾\";}#sk-container-id-7 div.sk-estimator input.sk-toggleable__control:checked~label.sk-toggleable__label {background-color: #d4ebff;}#sk-container-id-7 div.sk-label input.sk-toggleable__control:checked~label.sk-toggleable__label {background-color: #d4ebff;}#sk-container-id-7 input.sk-hidden--visually {border: 0;clip: rect(1px 1px 1px 1px);clip: rect(1px, 1px, 1px, 1px);height: 1px;margin: -1px;overflow: hidden;padding: 0;position: absolute;width: 1px;}#sk-container-id-7 div.sk-estimator {font-family: monospace;background-color: #f0f8ff;border: 1px dotted black;border-radius: 0.25em;box-sizing: border-box;margin-bottom: 0.5em;}#sk-container-id-7 div.sk-estimator:hover {background-color: #d4ebff;}#sk-container-id-7 div.sk-parallel-item::after {content: \"\";width: 100%;border-bottom: 1px solid gray;flex-grow: 1;}#sk-container-id-7 div.sk-label:hover label.sk-toggleable__label {background-color: #d4ebff;}#sk-container-id-7 div.sk-serial::before {content: \"\";position: absolute;border-left: 1px solid gray;box-sizing: border-box;top: 0;bottom: 0;left: 50%;z-index: 0;}#sk-container-id-7 div.sk-serial {display: flex;flex-direction: column;align-items: center;background-color: white;padding-right: 0.2em;padding-left: 0.2em;position: relative;}#sk-container-id-7 div.sk-item {position: relative;z-index: 1;}#sk-container-id-7 div.sk-parallel {display: flex;align-items: stretch;justify-content: center;background-color: white;position: relative;}#sk-container-id-7 div.sk-item::before, #sk-container-id-7 div.sk-parallel-item::before {content: \"\";position: absolute;border-left: 1px solid gray;box-sizing: border-box;top: 0;bottom: 0;left: 50%;z-index: -1;}#sk-container-id-7 div.sk-parallel-item {display: flex;flex-direction: column;z-index: 1;position: relative;background-color: white;}#sk-container-id-7 div.sk-parallel-item:first-child::after {align-self: flex-end;width: 50%;}#sk-container-id-7 div.sk-parallel-item:last-child::after {align-self: flex-start;width: 50%;}#sk-container-id-7 div.sk-parallel-item:only-child::after {width: 0;}#sk-container-id-7 div.sk-dashed-wrapped {border: 1px dashed gray;margin: 0 0.4em 0.5em 0.4em;box-sizing: border-box;padding-bottom: 0.4em;background-color: white;}#sk-container-id-7 div.sk-label label {font-family: monospace;font-weight: bold;display: inline-block;line-height: 1.2em;}#sk-container-id-7 div.sk-label-container {text-align: center;}#sk-container-id-7 div.sk-container {/* jupyter's `normalize.less` sets `[hidden] { display: none; }` but bootstrap.min.css set `[hidden] { display: none !important; }` so we also need the `!important` here to be able to override the default hidden behavior on the sphinx rendered scikit-learn.org. See: https://github.com/scikit-learn/scikit-learn/issues/21755 */display: inline-block !important;position: relative;}#sk-container-id-7 div.sk-text-repr-fallback {display: none;}</style><div id=\"sk-container-id-7\" class=\"sk-top-container\"><div class=\"sk-text-repr-fallback\"><pre>LGBMClassifier(boosting_type=&#x27;gbdt&#x27;, class_weight=None, colsample_bytree=1.0,\n",
       "               importance_type=&#x27;split&#x27;, learning_rate=0.1, max_depth=-1,\n",
       "               min_child_samples=20, min_child_weight=0.001, min_split_gain=0.0,\n",
       "               n_estimators=100, n_jobs=-1, num_leaves=31, objective=None,\n",
       "               random_state=6765, reg_alpha=0.0, reg_lambda=0.0, subsample=1.0,\n",
       "               subsample_for_bin=200000, subsample_freq=0)</pre><b>In a Jupyter environment, please rerun this cell to show the HTML representation or trust the notebook. <br />On GitHub, the HTML representation is unable to render, please try loading this page with nbviewer.org.</b></div><div class=\"sk-container\" hidden><div class=\"sk-item\"><div class=\"sk-estimator sk-toggleable\"><input class=\"sk-toggleable__control sk-hidden--visually\" id=\"sk-estimator-id-18\" type=\"checkbox\" checked><label for=\"sk-estimator-id-18\" class=\"sk-toggleable__label sk-toggleable__label-arrow\">LGBMClassifier</label><div class=\"sk-toggleable__content\"><pre>LGBMClassifier(boosting_type=&#x27;gbdt&#x27;, class_weight=None, colsample_bytree=1.0,\n",
       "               importance_type=&#x27;split&#x27;, learning_rate=0.1, max_depth=-1,\n",
       "               min_child_samples=20, min_child_weight=0.001, min_split_gain=0.0,\n",
       "               n_estimators=100, n_jobs=-1, num_leaves=31, objective=None,\n",
       "               random_state=6765, reg_alpha=0.0, reg_lambda=0.0, subsample=1.0,\n",
       "               subsample_for_bin=200000, subsample_freq=0)</pre></div></div></div></div></div>"
      ],
      "text/plain": [
       "LGBMClassifier(boosting_type='gbdt', class_weight=None, colsample_bytree=1.0,\n",
       "               importance_type='split', learning_rate=0.1, max_depth=-1,\n",
       "               min_child_samples=20, min_child_weight=0.001, min_split_gain=0.0,\n",
       "               n_estimators=100, n_jobs=-1, num_leaves=31, objective=None,\n",
       "               random_state=6765, reg_alpha=0.0, reg_lambda=0.0, subsample=1.0,\n",
       "               subsample_for_bin=200000, subsample_freq=0)"
      ]
     },
     "execution_count": 511,
     "metadata": {},
     "output_type": "execute_result"
    }
   ],
   "source": [
    "setup(data = pd.concat([train_final, target], axis = 1), target = 'Transported')\n",
    "compare_models()"
   ]
  },
  {
   "cell_type": "code",
   "execution_count": 512,
   "metadata": {},
   "outputs": [],
   "source": [
    "from sklearn.ensemble import GradientBoostingClassifier"
   ]
  },
  {
   "cell_type": "markdown",
   "metadata": {},
   "source": [
    "### **Hyper-Parameter Search**"
   ]
  },
  {
   "cell_type": "markdown",
   "metadata": {},
   "source": [
    "- **GradientBoostingClassifier**"
   ]
  },
  {
   "cell_type": "code",
   "execution_count": 1,
   "metadata": {},
   "outputs": [
    {
     "data": {
      "text/plain": [
       "'\\nparam_grid = {\\'max_depth\\': [5,7,9],\\n              \\'learning_rate\\':[0.01,0.1,0.2],\\n              \\'max_features\\':[4,6,8,10,12,14]\\n              }\\n\\ngbc_model = GridSearchCV(GradientBoostingClassifier(), param_grid, scoring=\"accuracy\", cv=5)\\ngbc_model.fit(train_final, target)\\nprint(\"Best score = %f, Best parameters = %s\" % (1. - gbc_model.best_score_, gbc_model.best_params_))\\n'"
      ]
     },
     "execution_count": 1,
     "metadata": {},
     "output_type": "execute_result"
    }
   ],
   "source": [
    "'''\n",
    "param_grid = {'max_depth': [5,7,9],\n",
    "              'learning_rate':[0.01,0.1,0.2],\n",
    "              'max_features':[4,6,8,10,12,14]\n",
    "              }\n",
    "\n",
    "gbc_model = GridSearchCV(GradientBoostingClassifier(), param_grid, scoring=\"accuracy\", cv=5)\n",
    "gbc_model.fit(train_final, target)\n",
    "print(\"Best score = %f, Best parameters = %s\" % (1. - gbc_model.best_score_, gbc_model.best_params_))\n",
    "'''"
   ]
  },
  {
   "cell_type": "code",
   "execution_count": 505,
   "metadata": {},
   "outputs": [
    {
     "name": "stdout",
     "output_type": "stream",
     "text": [
      "Acuraccy = 0.8621879673300357\n"
     ]
    }
   ],
   "source": [
    "gbc_model = GradientBoostingClassifier(learning_rate=0.01, max_depth=5, max_features=12)\n",
    "\n",
    "gbc_model.fit(train_final, target)\n",
    "print('Acuraccy = {}'.format(gbc_model.score(train_final,target)))\n"
   ]
  },
  {
   "cell_type": "markdown",
   "metadata": {},
   "source": [
    "### Learning Curve"
   ]
  },
  {
   "cell_type": "code",
   "execution_count": 506,
   "metadata": {},
   "outputs": [
    {
     "data": {
      "image/png": "[encoded data removed]",
      "text/plain": [
       "<Figure size 1000x600 with 1 Axes>"
      ]
     },
     "metadata": {},
     "output_type": "display_data"
    }
   ],
   "source": [
    "def plot_learning_curve(estimator, X, y):\n",
    "    train_sizes, train_scores, test_scores = learning_curve(\n",
    "        estimator, X, y, cv=5, n_jobs=-1, train_sizes=np.linspace(.1, 1.0, 5))\n",
    "    \n",
    "    train_scores_mean = np.mean(train_scores, axis=1)\n",
    "    train_scores_std = np.std(train_scores, axis=1)\n",
    "    test_scores_mean = np.mean(test_scores, axis=1)\n",
    "    test_scores_std = np.std(test_scores, axis=1)\n",
    "    \n",
    "    plt.figure(figsize=(10, 6))\n",
    "    plt.title(\"Learning Curve\")\n",
    "    plt.xlabel(\"Training Set Size\")\n",
    "    plt.ylabel(\"Score\")\n",
    "    plt.grid()\n",
    "    \n",
    "    plt.fill_between(train_sizes, train_scores_mean - train_scores_std,\n",
    "                     train_scores_mean + train_scores_std, alpha=0.1, color=\"r\")\n",
    "    plt.fill_between(train_sizes, test_scores_mean - test_scores_std,\n",
    "                     test_scores_mean + test_scores_std, alpha=0.1, color=\"g\")\n",
    "    \n",
    "    plt.plot(train_sizes, train_scores_mean, 'o-', color=\"r\", label=\"Training\")\n",
    "    plt.plot(train_sizes, test_scores_mean, 'o-', color=\"g\", label=\"Cross-Validation\")\n",
    "    \n",
    "    plt.legend(loc=\"best\")\n",
    "    plt.show()\n",
    "\n",
    "# Use the plot_learning_curve function passing your estimator (model), X (training data), and y (training labels)\n",
    "plot_learning_curve(gbc_model, train_final, target)"
   ]
  },
  {
   "cell_type": "code",
   "execution_count": 507,
   "metadata": {},
   "outputs": [],
   "source": [
    "final_predictions = gbc_model.predict(test_final)\n",
    "final_predictions = final_predictions.astype(bool)\n",
    "submission = pd.concat([PassengerId, pd.Series(final_predictions, name = 'Transported')], axis= 1)\n",
    "submission.to_csv('./submission_predictions.csv',index=False, header= True)"
   ]
  }
 ],
 "metadata": {
  "kernelspec": {
   "display_name": "Python 3 (ipykernel)",
   "language": "python",
   "name": "python3"
  },
  "language_info": {
   "codemirror_mode": {
    "name": "ipython",
    "version": 3
   },
   "file_extension": ".py",
   "mimetype": "text/x-python",
   "name": "python",
   "nbconvert_exporter": "python",
   "pygments_lexer": "ipython3",
   "version": "3.10.13"
  }
 },
 "nbformat": 4,
 "nbformat_minor": 4
}
